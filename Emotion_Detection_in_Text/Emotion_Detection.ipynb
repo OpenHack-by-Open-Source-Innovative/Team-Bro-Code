{
 "cells": [
  {
   "cell_type": "markdown",
   "id": "b2b2af91-3f20-43ea-a49a-314198216499",
   "metadata": {},
   "source": [
    "# Detecting Emotion From Text"
   ]
  },
  {
   "cell_type": "markdown",
   "id": "0dd792e0-8cfc-4a85-b19a-a490e06dc2bd",
   "metadata": {},
   "source": [
    "## Import Libraries"
   ]
  },
  {
   "cell_type": "code",
   "execution_count": 1,
   "id": "1c46c5ff-cd98-4aaa-967d-382a223522d1",
   "metadata": {},
   "outputs": [],
   "source": [
    "import numpy as np \n",
    "import pandas as pd\n",
    "import json\n",
    "\n",
    "from sklearn.model_selection import train_test_split\n",
    "import matplotlib.pyplot as plt\n",
    "from sklearn.metrics import confusion_matrix, classification_report, f1_score, precision_score, recall_score\n",
    "\n",
    "import tensorflow as tf\n",
    "from tensorflow.keras.layers import Embedding,Dense,LSTM,Bidirectional,GlobalMaxPooling1D,Input,Dropout, Flatten\n",
    "from tensorflow.keras.callbacks import EarlyStopping,ReduceLROnPlateau\n",
    "from tensorflow.keras.models import Sequential, load_model\n",
    "from sklearn.preprocessing import LabelEncoder\n",
    "from tensorflow.keras.preprocessing.text import Tokenizer\n",
    "from tensorflow.keras.preprocessing.sequence import pad_sequences\n",
    "\n",
    "import nltk\n",
    "from nltk.corpus import stopwords\n",
    "import string\n",
    "import re\n",
    "\n",
    "from tqdm import tqdm\n",
    "import seaborn as sns\n",
    "from wordcloud import WordCloud\n",
    "import pickle\n",
    "import warnings\n",
    "warnings.filterwarnings('ignore')"
   ]
  },
  {
   "cell_type": "markdown",
   "id": "7837c8f7-bc99-46ba-801c-d95e60ea6b30",
   "metadata": {},
   "source": [
    "## Load Data - Go Emotions"
   ]
  },
  {
   "cell_type": "code",
   "execution_count": 2,
   "id": "b285c0f5-87fd-4967-b03b-769c01c21cd6",
   "metadata": {},
   "outputs": [],
   "source": [
    "data_train = pd.read_csv('./data/goEmotions/train.tsv', sep=\"\\t\", header=None, names=[\"text\", \"emotion\", \"temp\"]).drop(\"temp\", axis=1)\n",
    "data_test = pd.read_csv('./data/goEmotions/test.tsv', sep=\"\\t\", header=None, names=[\"text\", \"emotion\", \"temp\"]).drop(\"temp\", axis=1)\n",
    "data_val = pd.read_csv('./data/goEmotions/dev.tsv', sep=\"\\t\", header=None, names=[\"text\", \"emotion\", \"temp\"]).drop(\"temp\", axis=1)"
   ]
  },
  {
   "cell_type": "code",
   "execution_count": 3,
   "id": "48bc6ac3-ff5d-448e-8e86-ae31681fe2e7",
   "metadata": {},
   "outputs": [],
   "source": [
    "data_go_Emotion = pd.concat([data_train, data_test, data_val])"
   ]
  },
  {
   "cell_type": "code",
   "execution_count": 4,
   "id": "624722f5-2f49-43f2-86bd-682a468e1b4b",
   "metadata": {},
   "outputs": [
    {
     "data": {
      "text/html": [
       "<div>\n",
       "<style scoped>\n",
       "    .dataframe tbody tr th:only-of-type {\n",
       "        vertical-align: middle;\n",
       "    }\n",
       "\n",
       "    .dataframe tbody tr th {\n",
       "        vertical-align: top;\n",
       "    }\n",
       "\n",
       "    .dataframe thead th {\n",
       "        text-align: right;\n",
       "    }\n",
       "</style>\n",
       "<table border=\"1\" class=\"dataframe\">\n",
       "  <thead>\n",
       "    <tr style=\"text-align: right;\">\n",
       "      <th></th>\n",
       "      <th>text</th>\n",
       "      <th>emotion</th>\n",
       "    </tr>\n",
       "  </thead>\n",
       "  <tbody>\n",
       "    <tr>\n",
       "      <th>0</th>\n",
       "      <td>My favourite food is anything I didn't have to...</td>\n",
       "      <td>27</td>\n",
       "    </tr>\n",
       "    <tr>\n",
       "      <th>1</th>\n",
       "      <td>Now if he does off himself, everyone will thin...</td>\n",
       "      <td>27</td>\n",
       "    </tr>\n",
       "    <tr>\n",
       "      <th>2</th>\n",
       "      <td>WHY THE FUCK IS BAYLESS ISOING</td>\n",
       "      <td>2</td>\n",
       "    </tr>\n",
       "    <tr>\n",
       "      <th>3</th>\n",
       "      <td>To make her feel threatened</td>\n",
       "      <td>14</td>\n",
       "    </tr>\n",
       "    <tr>\n",
       "      <th>4</th>\n",
       "      <td>Dirty Southern Wankers</td>\n",
       "      <td>3</td>\n",
       "    </tr>\n",
       "    <tr>\n",
       "      <th>...</th>\n",
       "      <td>...</td>\n",
       "      <td>...</td>\n",
       "    </tr>\n",
       "    <tr>\n",
       "      <th>5421</th>\n",
       "      <td>It's pretty dangerous when the state decides w...</td>\n",
       "      <td>14</td>\n",
       "    </tr>\n",
       "    <tr>\n",
       "      <th>5422</th>\n",
       "      <td>I filed for divorce this morning. Hoping he mo...</td>\n",
       "      <td>20</td>\n",
       "    </tr>\n",
       "    <tr>\n",
       "      <th>5423</th>\n",
       "      <td>The last time it happened I just said, \"No\" an...</td>\n",
       "      <td>10</td>\n",
       "    </tr>\n",
       "    <tr>\n",
       "      <th>5424</th>\n",
       "      <td>I can’t stand this arrogant prick he’s no bett...</td>\n",
       "      <td>3</td>\n",
       "    </tr>\n",
       "    <tr>\n",
       "      <th>5425</th>\n",
       "      <td>::but I like baby bangs:: /tiny voice</td>\n",
       "      <td>18</td>\n",
       "    </tr>\n",
       "  </tbody>\n",
       "</table>\n",
       "<p>54263 rows × 2 columns</p>\n",
       "</div>"
      ],
      "text/plain": [
       "                                                   text emotion\n",
       "0     My favourite food is anything I didn't have to...      27\n",
       "1     Now if he does off himself, everyone will thin...      27\n",
       "2                        WHY THE FUCK IS BAYLESS ISOING       2\n",
       "3                           To make her feel threatened      14\n",
       "4                                Dirty Southern Wankers       3\n",
       "...                                                 ...     ...\n",
       "5421  It's pretty dangerous when the state decides w...      14\n",
       "5422  I filed for divorce this morning. Hoping he mo...      20\n",
       "5423  The last time it happened I just said, \"No\" an...      10\n",
       "5424  I can’t stand this arrogant prick he’s no bett...       3\n",
       "5425              ::but I like baby bangs:: /tiny voice      18\n",
       "\n",
       "[54263 rows x 2 columns]"
      ]
     },
     "execution_count": 4,
     "metadata": {},
     "output_type": "execute_result"
    }
   ],
   "source": [
    "data_go_Emotion"
   ]
  },
  {
   "cell_type": "code",
   "execution_count": 5,
   "id": "f3bd9737-4a38-4f79-b180-a7e30f0e0d36",
   "metadata": {},
   "outputs": [],
   "source": [
    "def use_one(row):\n",
    "    if \",\" in row:\n",
    "        return row.split(\",\")[0]\n",
    "    return row"
   ]
  },
  {
   "cell_type": "code",
   "execution_count": 6,
   "id": "f7d7ab74-13e9-45ea-bd94-d755b6d3f6eb",
   "metadata": {},
   "outputs": [],
   "source": [
    "data_go_Emotion.emotion = data_go_Emotion.emotion.apply(use_one)"
   ]
  },
  {
   "cell_type": "code",
   "execution_count": 7,
   "id": "0cf1817a-630a-4c01-8ad7-f21c1ab89d06",
   "metadata": {
    "tags": []
   },
   "outputs": [
    {
     "data": {
      "text/plain": [
       "27    16021\n",
       "0      5122\n",
       "4      3269\n",
       "1      2793\n",
       "15     2681\n",
       "3      2671\n",
       "7      2210\n",
       "10     2117\n",
       "2      1936\n",
       "18     1883\n",
       "6      1543\n",
       "9      1284\n",
       "17     1250\n",
       "20     1227\n",
       "5      1218\n",
       "25     1067\n",
       "26      938\n",
       "22      893\n",
       "13      862\n",
       "11      738\n",
       "8       681\n",
       "14      658\n",
       "24      497\n",
       "12      306\n",
       "19      132\n",
       "23      111\n",
       "16       81\n",
       "21       74\n",
       "Name: emotion, dtype: int64"
      ]
     },
     "execution_count": 7,
     "metadata": {},
     "output_type": "execute_result"
    }
   ],
   "source": [
    "data_go_Emotion.emotion.value_counts()"
   ]
  },
  {
   "cell_type": "code",
   "execution_count": 8,
   "id": "45be365e-6148-4bbe-a1af-20b558da420d",
   "metadata": {},
   "outputs": [],
   "source": [
    "with open('./data/goEmotions/emotions.txt', 'r') as f:\n",
    "    emotion_arr = f.readlines()\n",
    "    emotion_arr = [x.replace(\"\\n\", \"\") for x in emotion_arr]"
   ]
  },
  {
   "cell_type": "code",
   "execution_count": 9,
   "id": "aaaac71e-d088-4a86-832b-a7280eb3a633",
   "metadata": {},
   "outputs": [
    {
     "name": "stdout",
     "output_type": "stream",
     "text": [
      "['admiration', 'amusement', 'anger', 'annoyance', 'approval', 'caring', 'confusion', 'curiosity', 'desire', 'disappointment', 'disapproval', 'disgust', 'embarrassment', 'excitement', 'fear', 'gratitude', 'grief', 'joy', 'love', 'nervousness', 'optimism', 'pride', 'realization', 'relief', 'remorse', 'sadness', 'surprise', 'neutral']\n"
     ]
    }
   ],
   "source": [
    "print(emotion_arr)"
   ]
  },
  {
   "cell_type": "code",
   "execution_count": 10,
   "id": "ab55628f-b6c4-4478-bdb1-869bcdf93032",
   "metadata": {},
   "outputs": [],
   "source": [
    "with open(\"./data/goEmotions/ekman_mapping.json\") as f:\n",
    "    emotion_dict = json.loads(f.read())"
   ]
  },
  {
   "cell_type": "code",
   "execution_count": 11,
   "id": "4cfda985-6c39-48fe-a6b4-f9e5412b3d2f",
   "metadata": {},
   "outputs": [],
   "source": [
    "emotion_dict[\"happiness\"] = emotion_dict.pop(\"joy\")"
   ]
  },
  {
   "cell_type": "code",
   "execution_count": 12,
   "id": "ea0b5358-0ee2-470a-9688-7edbfd48d7b7",
   "metadata": {},
   "outputs": [
    {
     "data": {
      "text/plain": [
       "{'anger': ['anger', 'annoyance', 'disapproval'],\n",
       " 'disgust': ['disgust'],\n",
       " 'fear': ['fear', 'nervousness'],\n",
       " 'sadness': ['sadness', 'disappointment', 'embarrassment', 'grief', 'remorse'],\n",
       " 'surprise': ['surprise', 'realization', 'confusion', 'curiosity'],\n",
       " 'happiness': ['joy',\n",
       "  'amusement',\n",
       "  'approval',\n",
       "  'excitement',\n",
       "  'gratitude',\n",
       "  'love',\n",
       "  'optimism',\n",
       "  'relief',\n",
       "  'pride',\n",
       "  'admiration',\n",
       "  'desire',\n",
       "  'caring']}"
      ]
     },
     "execution_count": 12,
     "metadata": {},
     "output_type": "execute_result"
    }
   ],
   "source": [
    "emotion_dict"
   ]
  },
  {
   "cell_type": "code",
   "execution_count": 13,
   "id": "1d865f17-568a-4d2d-9ec5-695ce8bb6c8a",
   "metadata": {},
   "outputs": [],
   "source": [
    "base_emotions = emotion_dict.keys()"
   ]
  },
  {
   "cell_type": "code",
   "execution_count": 14,
   "id": "5f2ca004-3f4c-42d5-aed4-4439ef689963",
   "metadata": {},
   "outputs": [],
   "source": [
    "def map_emotions(row):\n",
    "    emt = emotion_arr[int(row)]\n",
    "    if emt == \"neutral\":\n",
    "        return emt\n",
    "    for i in base_emotions:\n",
    "        for j in emotion_dict[i]:\n",
    "#             print(j)\n",
    "            if emt == j:\n",
    "                return i"
   ]
  },
  {
   "cell_type": "code",
   "execution_count": 15,
   "id": "741cd88c-b15c-4564-a9e8-ef48c5ff45f5",
   "metadata": {},
   "outputs": [
    {
     "data": {
      "text/plain": [
       "happiness    21171\n",
       "neutral      16021\n",
       "anger         6724\n",
       "surprise      5584\n",
       "sadness       3235\n",
       "fear           790\n",
       "disgust        738\n",
       "Name: emotion, dtype: int64"
      ]
     },
     "execution_count": 15,
     "metadata": {},
     "output_type": "execute_result"
    }
   ],
   "source": [
    "temp = data_go_Emotion.emotion.apply(map_emotions)\n",
    "temp.value_counts()"
   ]
  },
  {
   "cell_type": "code",
   "execution_count": 16,
   "id": "20807b25-141e-4ff6-9ffe-b1a2c9a7bd8d",
   "metadata": {},
   "outputs": [],
   "source": [
    "data_go_Emotion.emotion = data_go_Emotion.emotion.apply(map_emotions)"
   ]
  },
  {
   "cell_type": "code",
   "execution_count": 17,
   "id": "e0fa05f6-0cf9-42fc-af86-c7162e659a4f",
   "metadata": {},
   "outputs": [
    {
     "data": {
      "text/html": [
       "<div>\n",
       "<style scoped>\n",
       "    .dataframe tbody tr th:only-of-type {\n",
       "        vertical-align: middle;\n",
       "    }\n",
       "\n",
       "    .dataframe tbody tr th {\n",
       "        vertical-align: top;\n",
       "    }\n",
       "\n",
       "    .dataframe thead th {\n",
       "        text-align: right;\n",
       "    }\n",
       "</style>\n",
       "<table border=\"1\" class=\"dataframe\">\n",
       "  <thead>\n",
       "    <tr style=\"text-align: right;\">\n",
       "      <th></th>\n",
       "      <th>text</th>\n",
       "      <th>emotion</th>\n",
       "    </tr>\n",
       "  </thead>\n",
       "  <tbody>\n",
       "    <tr>\n",
       "      <th>0</th>\n",
       "      <td>My favourite food is anything I didn't have to...</td>\n",
       "      <td>neutral</td>\n",
       "    </tr>\n",
       "    <tr>\n",
       "      <th>1</th>\n",
       "      <td>Now if he does off himself, everyone will thin...</td>\n",
       "      <td>neutral</td>\n",
       "    </tr>\n",
       "    <tr>\n",
       "      <th>2</th>\n",
       "      <td>WHY THE FUCK IS BAYLESS ISOING</td>\n",
       "      <td>anger</td>\n",
       "    </tr>\n",
       "    <tr>\n",
       "      <th>3</th>\n",
       "      <td>To make her feel threatened</td>\n",
       "      <td>fear</td>\n",
       "    </tr>\n",
       "    <tr>\n",
       "      <th>4</th>\n",
       "      <td>Dirty Southern Wankers</td>\n",
       "      <td>anger</td>\n",
       "    </tr>\n",
       "    <tr>\n",
       "      <th>...</th>\n",
       "      <td>...</td>\n",
       "      <td>...</td>\n",
       "    </tr>\n",
       "    <tr>\n",
       "      <th>5421</th>\n",
       "      <td>It's pretty dangerous when the state decides w...</td>\n",
       "      <td>fear</td>\n",
       "    </tr>\n",
       "    <tr>\n",
       "      <th>5422</th>\n",
       "      <td>I filed for divorce this morning. Hoping he mo...</td>\n",
       "      <td>happiness</td>\n",
       "    </tr>\n",
       "    <tr>\n",
       "      <th>5423</th>\n",
       "      <td>The last time it happened I just said, \"No\" an...</td>\n",
       "      <td>anger</td>\n",
       "    </tr>\n",
       "    <tr>\n",
       "      <th>5424</th>\n",
       "      <td>I can’t stand this arrogant prick he’s no bett...</td>\n",
       "      <td>anger</td>\n",
       "    </tr>\n",
       "    <tr>\n",
       "      <th>5425</th>\n",
       "      <td>::but I like baby bangs:: /tiny voice</td>\n",
       "      <td>happiness</td>\n",
       "    </tr>\n",
       "  </tbody>\n",
       "</table>\n",
       "<p>54263 rows × 2 columns</p>\n",
       "</div>"
      ],
      "text/plain": [
       "                                                   text    emotion\n",
       "0     My favourite food is anything I didn't have to...    neutral\n",
       "1     Now if he does off himself, everyone will thin...    neutral\n",
       "2                        WHY THE FUCK IS BAYLESS ISOING      anger\n",
       "3                           To make her feel threatened       fear\n",
       "4                                Dirty Southern Wankers      anger\n",
       "...                                                 ...        ...\n",
       "5421  It's pretty dangerous when the state decides w...       fear\n",
       "5422  I filed for divorce this morning. Hoping he mo...  happiness\n",
       "5423  The last time it happened I just said, \"No\" an...      anger\n",
       "5424  I can’t stand this arrogant prick he’s no bett...      anger\n",
       "5425              ::but I like baby bangs:: /tiny voice  happiness\n",
       "\n",
       "[54263 rows x 2 columns]"
      ]
     },
     "execution_count": 17,
     "metadata": {},
     "output_type": "execute_result"
    }
   ],
   "source": [
    "data_go_Emotion"
   ]
  },
  {
   "cell_type": "markdown",
   "id": "7028d6b9-a50b-4834-b97c-6fcab0853a6d",
   "metadata": {},
   "source": [
    "## Load Data - Sunflower Data.World"
   ]
  },
  {
   "cell_type": "code",
   "execution_count": 18,
   "id": "ec975c2b-36a2-44cd-8d80-18d685aab226",
   "metadata": {},
   "outputs": [],
   "source": [
    "data_sun = pd.read_csv(\"./data/data_world_emotions/text_emotion.csv\")\n",
    "data_sun = data_sun[[\"sentiment\", \"content\"]]\n",
    "data_sun = data_sun.rename({\"sentiment\": \"emotion\", \"content\":\"text\"}, axis=1)"
   ]
  },
  {
   "cell_type": "code",
   "execution_count": 19,
   "id": "d26fdb5c-658b-45c1-85c5-32cdd09d5f06",
   "metadata": {},
   "outputs": [],
   "source": [
    "emt = ['empty', 'sadness', 'enthusiasm', 'neutral', 'surprise','love', 'fun', 'hate', 'happiness', 'anger']\n",
    "emt_dict = {'empty': 'sadness', \"enthusiasm\": \"happiness\", \"fun\": \"happiness\", \"love\": \"happiness\", \"hate\":\"anger\" }\n",
    "\n",
    "def map_emotion(emotion):\n",
    "    if emotion in emt:\n",
    "        if emotion in emt_dict:\n",
    "            return emt_dict[emotion]\n",
    "        return emotion\n",
    "    return None"
   ]
  },
  {
   "cell_type": "code",
   "execution_count": 20,
   "id": "028e004f-0ac5-4abf-a6eb-2029dd919a05",
   "metadata": {},
   "outputs": [],
   "source": [
    "data_sun.emotion = data_sun.emotion.apply(map_emotion)\n",
    "data_sun = data_sun.dropna()"
   ]
  },
  {
   "cell_type": "code",
   "execution_count": 21,
   "id": "d5439e16-6c62-426c-9eab-c43379212af6",
   "metadata": {},
   "outputs": [
    {
     "data": {
      "text/plain": [
       "happiness    11586\n",
       "neutral       8638\n",
       "sadness       5992\n",
       "surprise      2187\n",
       "anger         1433\n",
       "Name: emotion, dtype: int64"
      ]
     },
     "execution_count": 21,
     "metadata": {},
     "output_type": "execute_result"
    }
   ],
   "source": [
    "data_sun.emotion.value_counts()"
   ]
  },
  {
   "cell_type": "markdown",
   "id": "b6110dfc-2dff-4c10-a794-dacad9f97487",
   "metadata": {},
   "source": [
    "## Load Data - Github Dataset"
   ]
  },
  {
   "cell_type": "code",
   "execution_count": 22,
   "id": "1bb662ab-e7a5-42bb-b86b-d2c303139c44",
   "metadata": {},
   "outputs": [
    {
     "data": {
      "text/html": [
       "<div>\n",
       "<style scoped>\n",
       "    .dataframe tbody tr th:only-of-type {\n",
       "        vertical-align: middle;\n",
       "    }\n",
       "\n",
       "    .dataframe tbody tr th {\n",
       "        vertical-align: top;\n",
       "    }\n",
       "\n",
       "    .dataframe thead th {\n",
       "        text-align: right;\n",
       "    }\n",
       "</style>\n",
       "<table border=\"1\" class=\"dataframe\">\n",
       "  <thead>\n",
       "    <tr style=\"text-align: right;\">\n",
       "      <th></th>\n",
       "      <th>text</th>\n",
       "      <th>emotion</th>\n",
       "    </tr>\n",
       "  </thead>\n",
       "  <tbody>\n",
       "    <tr>\n",
       "      <th>0</th>\n",
       "      <td>i m looking forward to going home tomorrow but...</td>\n",
       "      <td>2</td>\n",
       "    </tr>\n",
       "    <tr>\n",
       "      <th>1</th>\n",
       "      <td>just got to kansas city and excited for a fun ...</td>\n",
       "      <td>3</td>\n",
       "    </tr>\n",
       "    <tr>\n",
       "      <th>2</th>\n",
       "      <td>hey adt guess what my princelple s number plat...</td>\n",
       "      <td>1</td>\n",
       "    </tr>\n",
       "    <tr>\n",
       "      <th>3</th>\n",
       "      <td>b gt not the best song for her</td>\n",
       "      <td>0</td>\n",
       "    </tr>\n",
       "    <tr>\n",
       "      <th>4</th>\n",
       "      <td>the wind tried to hate on us today lol hello f...</td>\n",
       "      <td>4</td>\n",
       "    </tr>\n",
       "    <tr>\n",
       "      <th>...</th>\n",
       "      <td>...</td>\n",
       "      <td>...</td>\n",
       "    </tr>\n",
       "    <tr>\n",
       "      <th>55769</th>\n",
       "      <td>vancouver so classy canuck s</td>\n",
       "      <td>1</td>\n",
       "    </tr>\n",
       "    <tr>\n",
       "      <th>55770</th>\n",
       "      <td>gonna get my ticket to las vegas today gotta c...</td>\n",
       "      <td>1</td>\n",
       "    </tr>\n",
       "    <tr>\n",
       "      <th>55771</th>\n",
       "      <td>when life as you know it doesn t exist anymore</td>\n",
       "      <td>2</td>\n",
       "    </tr>\n",
       "    <tr>\n",
       "      <th>55772</th>\n",
       "      <td>my camera is brokennn</td>\n",
       "      <td>2</td>\n",
       "    </tr>\n",
       "    <tr>\n",
       "      <th>55773</th>\n",
       "      <td>but i m sure you ll find a new set of challeng...</td>\n",
       "      <td>2</td>\n",
       "    </tr>\n",
       "  </tbody>\n",
       "</table>\n",
       "<p>55774 rows × 2 columns</p>\n",
       "</div>"
      ],
      "text/plain": [
       "                                                    text  emotion\n",
       "0      i m looking forward to going home tomorrow but...        2\n",
       "1      just got to kansas city and excited for a fun ...        3\n",
       "2      hey adt guess what my princelple s number plat...        1\n",
       "3                         b gt not the best song for her        0\n",
       "4      the wind tried to hate on us today lol hello f...        4\n",
       "...                                                  ...      ...\n",
       "55769                       vancouver so classy canuck s        1\n",
       "55770  gonna get my ticket to las vegas today gotta c...        1\n",
       "55771     when life as you know it doesn t exist anymore        2\n",
       "55772                              my camera is brokennn        2\n",
       "55773  but i m sure you ll find a new set of challeng...        2\n",
       "\n",
       "[55774 rows x 2 columns]"
      ]
     },
     "execution_count": 22,
     "metadata": {},
     "output_type": "execute_result"
    }
   ],
   "source": [
    "data_gt = pd.read_csv(\"./data/github_emotions/emotion_data.csv\", header=None, names=[\"text\", \"emotion\"])\n",
    "data_gt"
   ]
  },
  {
   "cell_type": "code",
   "execution_count": 23,
   "id": "129aac7f-01ac-41a3-b878-db8ea6bade0c",
   "metadata": {},
   "outputs": [],
   "source": [
    "emotion_arr = [\"neutral\", \"happiness\", \"sadness\", \"Love\", \"anger\"]\n",
    "\n",
    "def map_classes(emotion):\n",
    "    if int(emotion) != 3:\n",
    "        return emotion_arr[int(emotion)]\n",
    "    return emotion_arr[2]"
   ]
  },
  {
   "cell_type": "code",
   "execution_count": 24,
   "id": "640db7b6-599b-453e-b97a-b139bddf28e1",
   "metadata": {},
   "outputs": [],
   "source": [
    "data_gt.emotion = data_gt.emotion.apply(map_classes)"
   ]
  },
  {
   "cell_type": "code",
   "execution_count": 25,
   "id": "07a5fd9b-cce8-4556-a25e-7095a3614462",
   "metadata": {},
   "outputs": [
    {
     "data": {
      "text/plain": [
       "sadness      24499\n",
       "happiness    15444\n",
       "neutral       9643\n",
       "anger         6188\n",
       "Name: emotion, dtype: int64"
      ]
     },
     "execution_count": 25,
     "metadata": {},
     "output_type": "execute_result"
    }
   ],
   "source": [
    "data_gt.emotion.value_counts()"
   ]
  },
  {
   "cell_type": "markdown",
   "id": "401c9fe6-882c-4a4d-9458-3b4d97bb2987",
   "metadata": {},
   "source": [
    "## Complete Dataset"
   ]
  },
  {
   "cell_type": "code",
   "execution_count": 26,
   "id": "82113ed5-c355-4f20-9099-5841e0628512",
   "metadata": {},
   "outputs": [],
   "source": [
    "# data = pd.concat([data_go_Emotion, data_sun, data_gt])\n",
    "data = pd.concat([data_go_Emotion])\n",
    "data = data.dropna().reset_index(drop=True)"
   ]
  },
  {
   "cell_type": "code",
   "execution_count": 27,
   "id": "c93b0243-1b92-4c1d-8ba9-80ae85d1d757",
   "metadata": {},
   "outputs": [
    {
     "data": {
      "text/html": [
       "<div>\n",
       "<style scoped>\n",
       "    .dataframe tbody tr th:only-of-type {\n",
       "        vertical-align: middle;\n",
       "    }\n",
       "\n",
       "    .dataframe tbody tr th {\n",
       "        vertical-align: top;\n",
       "    }\n",
       "\n",
       "    .dataframe thead th {\n",
       "        text-align: right;\n",
       "    }\n",
       "</style>\n",
       "<table border=\"1\" class=\"dataframe\">\n",
       "  <thead>\n",
       "    <tr style=\"text-align: right;\">\n",
       "      <th></th>\n",
       "      <th>text</th>\n",
       "      <th>emotion</th>\n",
       "    </tr>\n",
       "  </thead>\n",
       "  <tbody>\n",
       "    <tr>\n",
       "      <th>0</th>\n",
       "      <td>My favourite food is anything I didn't have to...</td>\n",
       "      <td>neutral</td>\n",
       "    </tr>\n",
       "    <tr>\n",
       "      <th>1</th>\n",
       "      <td>Now if he does off himself, everyone will thin...</td>\n",
       "      <td>neutral</td>\n",
       "    </tr>\n",
       "    <tr>\n",
       "      <th>2</th>\n",
       "      <td>WHY THE FUCK IS BAYLESS ISOING</td>\n",
       "      <td>anger</td>\n",
       "    </tr>\n",
       "    <tr>\n",
       "      <th>3</th>\n",
       "      <td>To make her feel threatened</td>\n",
       "      <td>fear</td>\n",
       "    </tr>\n",
       "    <tr>\n",
       "      <th>4</th>\n",
       "      <td>Dirty Southern Wankers</td>\n",
       "      <td>anger</td>\n",
       "    </tr>\n",
       "    <tr>\n",
       "      <th>...</th>\n",
       "      <td>...</td>\n",
       "      <td>...</td>\n",
       "    </tr>\n",
       "    <tr>\n",
       "      <th>54258</th>\n",
       "      <td>It's pretty dangerous when the state decides w...</td>\n",
       "      <td>fear</td>\n",
       "    </tr>\n",
       "    <tr>\n",
       "      <th>54259</th>\n",
       "      <td>I filed for divorce this morning. Hoping he mo...</td>\n",
       "      <td>happiness</td>\n",
       "    </tr>\n",
       "    <tr>\n",
       "      <th>54260</th>\n",
       "      <td>The last time it happened I just said, \"No\" an...</td>\n",
       "      <td>anger</td>\n",
       "    </tr>\n",
       "    <tr>\n",
       "      <th>54261</th>\n",
       "      <td>I can’t stand this arrogant prick he’s no bett...</td>\n",
       "      <td>anger</td>\n",
       "    </tr>\n",
       "    <tr>\n",
       "      <th>54262</th>\n",
       "      <td>::but I like baby bangs:: /tiny voice</td>\n",
       "      <td>happiness</td>\n",
       "    </tr>\n",
       "  </tbody>\n",
       "</table>\n",
       "<p>54263 rows × 2 columns</p>\n",
       "</div>"
      ],
      "text/plain": [
       "                                                    text    emotion\n",
       "0      My favourite food is anything I didn't have to...    neutral\n",
       "1      Now if he does off himself, everyone will thin...    neutral\n",
       "2                         WHY THE FUCK IS BAYLESS ISOING      anger\n",
       "3                            To make her feel threatened       fear\n",
       "4                                 Dirty Southern Wankers      anger\n",
       "...                                                  ...        ...\n",
       "54258  It's pretty dangerous when the state decides w...       fear\n",
       "54259  I filed for divorce this morning. Hoping he mo...  happiness\n",
       "54260  The last time it happened I just said, \"No\" an...      anger\n",
       "54261  I can’t stand this arrogant prick he’s no bett...      anger\n",
       "54262              ::but I like baby bangs:: /tiny voice  happiness\n",
       "\n",
       "[54263 rows x 2 columns]"
      ]
     },
     "execution_count": 27,
     "metadata": {},
     "output_type": "execute_result"
    }
   ],
   "source": [
    "data"
   ]
  },
  {
   "cell_type": "markdown",
   "id": "8ff48d67-48dd-4810-8304-1f4ce3d88af9",
   "metadata": {},
   "source": [
    "## EDA"
   ]
  },
  {
   "cell_type": "code",
   "execution_count": 28,
   "id": "199d4831-9273-484c-8cfc-aff910c6ecc0",
   "metadata": {},
   "outputs": [
    {
     "name": "stdout",
     "output_type": "stream",
     "text": [
      "<class 'pandas.core.frame.DataFrame'>\n",
      "RangeIndex: 54263 entries, 0 to 54262\n",
      "Data columns (total 2 columns):\n",
      " #   Column   Non-Null Count  Dtype \n",
      "---  ------   --------------  ----- \n",
      " 0   text     54263 non-null  object\n",
      " 1   emotion  54263 non-null  object\n",
      "dtypes: object(2)\n",
      "memory usage: 848.0+ KB\n"
     ]
    }
   ],
   "source": [
    "data.info()"
   ]
  },
  {
   "cell_type": "code",
   "execution_count": 29,
   "id": "ffd24712-5c5b-405d-ba3c-00d38a48ed9e",
   "metadata": {},
   "outputs": [
    {
     "data": {
      "text/plain": [
       "happiness    21171\n",
       "neutral      16021\n",
       "anger         6724\n",
       "surprise      5584\n",
       "sadness       3235\n",
       "fear           790\n",
       "disgust        738\n",
       "Name: emotion, dtype: int64"
      ]
     },
     "execution_count": 29,
     "metadata": {},
     "output_type": "execute_result"
    }
   ],
   "source": [
    "data[\"emotion\"].value_counts()"
   ]
  },
  {
   "cell_type": "code",
   "execution_count": 30,
   "id": "1bc5b0ac-217f-4164-b50d-2fff9118bb61",
   "metadata": {
    "tags": []
   },
   "outputs": [],
   "source": [
    "data = data[data.emotion != \"fear\"]\n",
    "data = data[data.emotion != \"disgust\"]"
   ]
  },
  {
   "cell_type": "markdown",
   "id": "d819c184-1417-4108-be1b-e23cf9d1616c",
   "metadata": {},
   "source": [
    "## Data Preprocessing Pipeline"
   ]
  },
  {
   "cell_type": "code",
   "execution_count": 31,
   "id": "ecfa51da-5734-4142-b3ff-80a534de1f42",
   "metadata": {},
   "outputs": [],
   "source": [
    "# Tweets cleaning\n",
    "\n",
    "def remove_hashtags_mentions(sent):\n",
    "    removed_mentions = re.sub(\"@[A-Za-z0-9_]+\", \"\", sent)\n",
    "    removed_hashtags = re.sub(\"#[A-Za-z0-9_]+\",\"\", removed_mentions)\n",
    "    return removed_hashtags"
   ]
  },
  {
   "cell_type": "code",
   "execution_count": 32,
   "id": "c80f9bca-dc0b-4937-b54c-e3b0fe8b4e4f",
   "metadata": {},
   "outputs": [],
   "source": [
    "# lowercase\n",
    "def lower_case(sent):\n",
    "    return sent.lower()"
   ]
  },
  {
   "cell_type": "code",
   "execution_count": 33,
   "id": "217cc069-12a1-467e-9ef3-206872af2c35",
   "metadata": {},
   "outputs": [],
   "source": [
    "# Removing Punctuation\n",
    "def remove_punctuation(sent):\n",
    "    return \" \".join([char for char in sent.split() if char not in string.punctuation])"
   ]
  },
  {
   "cell_type": "code",
   "execution_count": 34,
   "id": "21b59e2c-529a-4390-bd2d-ee2325b7b167",
   "metadata": {},
   "outputs": [],
   "source": [
    "def filter_stopwords(tokens):\n",
    "    return \" \".join([word for word in tokens.split() if word not in stop_words])"
   ]
  },
  {
   "cell_type": "code",
   "execution_count": 35,
   "id": "de207c1c-5b0f-4eca-bbf8-eb3c24a2f829",
   "metadata": {},
   "outputs": [],
   "source": [
    "def preprocess_pipeline(sentence):\n",
    "    \n",
    "    sent = remove_hashtags_mentions(sentence)\n",
    "    sent = lower_case(sent)\n",
    "    sent = remove_punctuation(sent)\n",
    "    \n",
    "    return sent"
   ]
  },
  {
   "cell_type": "markdown",
   "id": "d898551c-4102-4039-b5f9-1fc8456d1ac7",
   "metadata": {},
   "source": [
    "### Preprocess the Data"
   ]
  },
  {
   "cell_type": "code",
   "execution_count": 36,
   "id": "2479acf2-b206-433b-a7d9-6b92521ff5bd",
   "metadata": {},
   "outputs": [],
   "source": [
    "data[\"preprocessed text\"] = data[\"text\"].apply(preprocess_pipeline)"
   ]
  },
  {
   "cell_type": "code",
   "execution_count": 37,
   "id": "d2e6ad9f-fc0e-4bd7-9c9d-5f5367c1333d",
   "metadata": {},
   "outputs": [
    {
     "data": {
      "text/html": [
       "<div>\n",
       "<style scoped>\n",
       "    .dataframe tbody tr th:only-of-type {\n",
       "        vertical-align: middle;\n",
       "    }\n",
       "\n",
       "    .dataframe tbody tr th {\n",
       "        vertical-align: top;\n",
       "    }\n",
       "\n",
       "    .dataframe thead th {\n",
       "        text-align: right;\n",
       "    }\n",
       "</style>\n",
       "<table border=\"1\" class=\"dataframe\">\n",
       "  <thead>\n",
       "    <tr style=\"text-align: right;\">\n",
       "      <th></th>\n",
       "      <th>text</th>\n",
       "      <th>emotion</th>\n",
       "      <th>preprocessed text</th>\n",
       "    </tr>\n",
       "  </thead>\n",
       "  <tbody>\n",
       "    <tr>\n",
       "      <th>0</th>\n",
       "      <td>My favourite food is anything I didn't have to...</td>\n",
       "      <td>neutral</td>\n",
       "      <td>my favourite food is anything i didn't have to...</td>\n",
       "    </tr>\n",
       "    <tr>\n",
       "      <th>1</th>\n",
       "      <td>Now if he does off himself, everyone will thin...</td>\n",
       "      <td>neutral</td>\n",
       "      <td>now if he does off himself, everyone will thin...</td>\n",
       "    </tr>\n",
       "    <tr>\n",
       "      <th>2</th>\n",
       "      <td>WHY THE FUCK IS BAYLESS ISOING</td>\n",
       "      <td>anger</td>\n",
       "      <td>why the fuck is bayless isoing</td>\n",
       "    </tr>\n",
       "    <tr>\n",
       "      <th>4</th>\n",
       "      <td>Dirty Southern Wankers</td>\n",
       "      <td>anger</td>\n",
       "      <td>dirty southern wankers</td>\n",
       "    </tr>\n",
       "    <tr>\n",
       "      <th>5</th>\n",
       "      <td>OmG pEyToN iSn'T gOoD eNoUgH tO hElP uS iN tHe...</td>\n",
       "      <td>surprise</td>\n",
       "      <td>omg peyton isn't good enough to help us in the...</td>\n",
       "    </tr>\n",
       "  </tbody>\n",
       "</table>\n",
       "</div>"
      ],
      "text/plain": [
       "                                                text   emotion  \\\n",
       "0  My favourite food is anything I didn't have to...   neutral   \n",
       "1  Now if he does off himself, everyone will thin...   neutral   \n",
       "2                     WHY THE FUCK IS BAYLESS ISOING     anger   \n",
       "4                             Dirty Southern Wankers     anger   \n",
       "5  OmG pEyToN iSn'T gOoD eNoUgH tO hElP uS iN tHe...  surprise   \n",
       "\n",
       "                                   preprocessed text  \n",
       "0  my favourite food is anything i didn't have to...  \n",
       "1  now if he does off himself, everyone will thin...  \n",
       "2                     why the fuck is bayless isoing  \n",
       "4                             dirty southern wankers  \n",
       "5  omg peyton isn't good enough to help us in the...  "
      ]
     },
     "execution_count": 37,
     "metadata": {},
     "output_type": "execute_result"
    }
   ],
   "source": [
    "data.head()"
   ]
  },
  {
   "cell_type": "markdown",
   "id": "95f090f5-eeb1-433d-a3b0-b51f94acb6a7",
   "metadata": {},
   "source": [
    "## Building Tokenizer"
   ]
  },
  {
   "cell_type": "code",
   "execution_count": 38,
   "id": "89d06eea-eea3-4bb6-8b4a-942e44bca8de",
   "metadata": {},
   "outputs": [],
   "source": [
    "tokenizer = Tokenizer()\n",
    "tokenizer.fit_on_texts(data[\"preprocessed text\"].values)\n",
    "\n",
    "word_index = tokenizer.word_index\n",
    "vocab_size=len(word_index)"
   ]
  },
  {
   "cell_type": "code",
   "execution_count": 39,
   "id": "21e6489c-76da-4f5d-8666-4c01a5061ca0",
   "metadata": {},
   "outputs": [],
   "source": [
    "embedding_dim = 300\n",
    "max_length = 350\n",
    "trunc_type='post'\n",
    "padding_type='post'\n",
    "oov_tok = \"<OOV>\""
   ]
  },
  {
   "cell_type": "code",
   "execution_count": 40,
   "id": "bcce958a-5566-4150-b720-d7d4eb818e06",
   "metadata": {},
   "outputs": [],
   "source": [
    "sequences = tokenizer.texts_to_sequences(data[\"preprocessed text\"].values)\n",
    "padded = pad_sequences(sequences, maxlen=max_length, padding=padding_type, truncating=trunc_type)"
   ]
  },
  {
   "cell_type": "code",
   "execution_count": 41,
   "id": "98035963-0e13-4240-acfa-8484b80d2dd2",
   "metadata": {},
   "outputs": [],
   "source": [
    "with open(\"./API/emotion_tokenizer.obj\", \"wb\") as f:\n",
    "    pickle.dump(tokenizer, f)"
   ]
  },
  {
   "cell_type": "markdown",
   "id": "7b5eb93e-cc10-4352-a588-289ee36e4c81",
   "metadata": {},
   "source": [
    "## Train Test Split"
   ]
  },
  {
   "cell_type": "code",
   "execution_count": 42,
   "id": "d4116587-c74c-4a01-a650-fb91360483e0",
   "metadata": {},
   "outputs": [],
   "source": [
    "from sklearn.model_selection import train_test_split"
   ]
  },
  {
   "cell_type": "code",
   "execution_count": 43,
   "id": "624e98ff-e73b-4313-8726-87c78d38bf27",
   "metadata": {},
   "outputs": [],
   "source": [
    "X_train, X_test, y_train, y_test = train_test_split(padded, data[\"emotion\"], test_size=0.3, stratify=data[\"emotion\"])"
   ]
  },
  {
   "cell_type": "code",
   "execution_count": 44,
   "id": "25327352-8853-462e-9311-485d5a4aa2d9",
   "metadata": {},
   "outputs": [
    {
     "data": {
      "text/plain": [
       "(36914, 15821, 36914, 15821)"
      ]
     },
     "execution_count": 44,
     "metadata": {},
     "output_type": "execute_result"
    }
   ],
   "source": [
    "len(X_train), len(X_test), len(y_train), len(y_test)"
   ]
  },
  {
   "cell_type": "markdown",
   "id": "b9057eb1-5f79-45cf-83b1-dd7b1d8e8259",
   "metadata": {},
   "source": [
    "## Encode Data"
   ]
  },
  {
   "cell_type": "code",
   "execution_count": 45,
   "id": "8ef94b89-031b-4928-8fd9-83f7cec57be7",
   "metadata": {},
   "outputs": [],
   "source": [
    "from sklearn.preprocessing import OneHotEncoder"
   ]
  },
  {
   "cell_type": "code",
   "execution_count": 46,
   "id": "756e196d-e619-4f9d-b9e5-cbf73745a2e3",
   "metadata": {},
   "outputs": [],
   "source": [
    "en = OneHotEncoder()"
   ]
  },
  {
   "cell_type": "code",
   "execution_count": 47,
   "id": "6974c117-7e09-4eb7-ad2a-b22b9de815cf",
   "metadata": {},
   "outputs": [],
   "source": [
    "y_train = en.fit_transform(y_train.values.reshape(-1, 1)).toarray()\n",
    "y_test = en.transform(y_test.values.reshape(-1, 1)).toarray()"
   ]
  },
  {
   "cell_type": "code",
   "execution_count": 48,
   "id": "a829b7a3-3742-483b-b7c2-4a688d439a3b",
   "metadata": {},
   "outputs": [
    {
     "data": {
      "text/plain": [
       "[array(['anger', 'happiness', 'neutral', 'sadness', 'surprise'],\n",
       "       dtype=object)]"
      ]
     },
     "execution_count": 48,
     "metadata": {},
     "output_type": "execute_result"
    }
   ],
   "source": [
    "encoder = list(en.categories_)\n",
    "encoder"
   ]
  },
  {
   "cell_type": "code",
   "execution_count": 49,
   "id": "a95f6671-6800-4877-997f-6e2b10301277",
   "metadata": {},
   "outputs": [
    {
     "data": {
      "text/plain": [
       "array([0., 0., 1., 0., 0.])"
      ]
     },
     "execution_count": 49,
     "metadata": {},
     "output_type": "execute_result"
    }
   ],
   "source": [
    "y_train[0]"
   ]
  },
  {
   "cell_type": "markdown",
   "id": "7e54a8ef-78e9-43c6-acc1-450802fdad51",
   "metadata": {},
   "source": [
    "## Load Glove Embedding"
   ]
  },
  {
   "cell_type": "code",
   "execution_count": 50,
   "id": "f4f089e8-0036-4786-8076-a8f95b933c95",
   "metadata": {},
   "outputs": [],
   "source": [
    "# 300 dimension version of GloVe from Stanford\n",
    "\n",
    "embeddings_index = {};\n",
    "with open('./pre_trained_Embedding/glove.6B/glove.6B.300d.txt', encoding=\"utf8\") as f:\n",
    "    for line in f:\n",
    "        values = line.split();\n",
    "        word = values[0];\n",
    "        coefs = np.asarray(values[1:], dtype='float32');\n",
    "        embeddings_index[word] = coefs;\n",
    "\n",
    "embeddings_matrix = np.zeros((vocab_size+1, embedding_dim));\n",
    "for word, i in word_index.items():\n",
    "    embedding_vector = embeddings_index.get(word);\n",
    "    if embedding_vector is not None:\n",
    "        embeddings_matrix[i] = embedding_vector;"
   ]
  },
  {
   "cell_type": "code",
   "execution_count": 51,
   "id": "388f60e5-4b2d-45fe-8807-e7e1264499d0",
   "metadata": {},
   "outputs": [
    {
     "name": "stdout",
     "output_type": "stream",
     "text": [
      "31166\n"
     ]
    }
   ],
   "source": [
    "print(len(embeddings_matrix))"
   ]
  },
  {
   "cell_type": "markdown",
   "id": "e6f14f4f-002f-48d6-b945-1225d2ec4b3f",
   "metadata": {},
   "source": [
    "## Building the AI Model I - Bi - LSTM"
   ]
  },
  {
   "cell_type": "code",
   "execution_count": 67,
   "id": "c8504606-f9b0-4137-8118-23ddef28d6ab",
   "metadata": {},
   "outputs": [],
   "source": [
    "def get_model():\n",
    "\n",
    "    model = tf.keras.Sequential()\n",
    "    model.add(Embedding(vocab_size+1, embedding_dim, input_length=max_length, weights=[embeddings_matrix]))\n",
    "    #     model.add(Bidirectional(tf.keras.layers.LSTM(16)))\n",
    "    model.add(Bidirectional(tf.keras.layers.GRU(32)))\n",
    "    model.add(Flatten())\n",
    "    model.add(Dense(128, activation='relu'))\n",
    "    model.add(Dropout(0.3))\n",
    "    model.add(Dense(64, activation='relu'))\n",
    "    model.add(Dropout(0.3))\n",
    "    model.add(Dense(16, activation='relu'))\n",
    "    model.add(Dropout(0.2))\n",
    "    model.add(Dense(5, activation='softmax'))\n",
    "    model.compile(loss='categorical_crossentropy', optimizer='adam', metrics=['accuracy'])\n",
    "    return model"
   ]
  },
  {
   "cell_type": "code",
   "execution_count": 68,
   "id": "3f5395fd-3738-426e-b313-3fef43c71960",
   "metadata": {},
   "outputs": [],
   "source": [
    "model = get_model()"
   ]
  },
  {
   "cell_type": "code",
   "execution_count": 69,
   "id": "1f67c504-24bf-4765-b756-cb96557ed26a",
   "metadata": {},
   "outputs": [
    {
     "name": "stdout",
     "output_type": "stream",
     "text": [
      "Model: \"sequential_3\"\n",
      "_________________________________________________________________\n",
      " Layer (type)                Output Shape              Param #   \n",
      "=================================================================\n",
      " embedding_3 (Embedding)     (None, 350, 300)          9349800   \n",
      "                                                                 \n",
      " bidirectional_3 (Bidirectio  (None, 64)               64128     \n",
      " nal)                                                            \n",
      "                                                                 \n",
      " flatten_3 (Flatten)         (None, 64)                0         \n",
      "                                                                 \n",
      " dense_12 (Dense)            (None, 128)               8320      \n",
      "                                                                 \n",
      " dropout_9 (Dropout)         (None, 128)               0         \n",
      "                                                                 \n",
      " dense_13 (Dense)            (None, 64)                8256      \n",
      "                                                                 \n",
      " dropout_10 (Dropout)        (None, 64)                0         \n",
      "                                                                 \n",
      " dense_14 (Dense)            (None, 16)                1040      \n",
      "                                                                 \n",
      " dropout_11 (Dropout)        (None, 16)                0         \n",
      "                                                                 \n",
      " dense_15 (Dense)            (None, 5)                 85        \n",
      "                                                                 \n",
      "=================================================================\n",
      "Total params: 9,431,629\n",
      "Trainable params: 9,431,629\n",
      "Non-trainable params: 0\n",
      "_________________________________________________________________\n"
     ]
    }
   ],
   "source": [
    "model.summary()"
   ]
  },
  {
   "cell_type": "markdown",
   "id": "3bd8af2e-45d7-456a-a4ed-c8ab7f616e2b",
   "metadata": {},
   "source": [
    "## Training the AI model"
   ]
  },
  {
   "cell_type": "code",
   "execution_count": 70,
   "id": "65c3f682-23f8-44ac-8e11-ca5e41c0a836",
   "metadata": {},
   "outputs": [],
   "source": [
    "callback = [tf.keras.callbacks.EarlyStopping(monitor='val_loss', patience=3),\n",
    "            tf.keras.callbacks.ModelCheckpoint(\n",
    "              filepath='./models/emotion_pred_model.h5',\n",
    "              save_weights_only=False,\n",
    "              monitor='val_loss',\n",
    "              save_best_only=True),\n",
    "            ]"
   ]
  },
  {
   "cell_type": "code",
   "execution_count": 71,
   "id": "6b11811a-8b59-4193-b21e-0bef085df4af",
   "metadata": {},
   "outputs": [
    {
     "name": "stdout",
     "output_type": "stream",
     "text": [
      "Epoch 1/1000\n",
      "1154/1154 [==============================] - 51s 43ms/step - loss: 1.1489 - accuracy: 0.5513 - val_loss: 0.9807 - val_accuracy: 0.6148\n",
      "Epoch 2/1000\n",
      "1154/1154 [==============================] - 50s 43ms/step - loss: 0.9045 - accuracy: 0.6606 - val_loss: 0.9673 - val_accuracy: 0.6302\n",
      "Epoch 3/1000\n",
      "1154/1154 [==============================] - 50s 44ms/step - loss: 0.7167 - accuracy: 0.7419 - val_loss: 1.0451 - val_accuracy: 0.6067\n",
      "Epoch 4/1000\n",
      "1154/1154 [==============================] - 49s 43ms/step - loss: 0.5374 - accuracy: 0.8162 - val_loss: 1.2472 - val_accuracy: 0.5990\n",
      "Epoch 5/1000\n",
      "1154/1154 [==============================] - 50s 43ms/step - loss: 0.4086 - accuracy: 0.8648 - val_loss: 1.5555 - val_accuracy: 0.5849\n"
     ]
    }
   ],
   "source": [
    "history = model.fit(X_train, y_train, batch_size=32, epochs=1000, validation_data=(X_test, y_test),callbacks = [callback])"
   ]
  },
  {
   "cell_type": "code",
   "execution_count": 72,
   "id": "383b9d77-0a60-4ab6-8072-00b96a0d9f6a",
   "metadata": {},
   "outputs": [],
   "source": [
    "model = load_model(\"./models/emotion_pred_model.h5\")"
   ]
  },
  {
   "cell_type": "code",
   "execution_count": 74,
   "id": "0d0b8139-c2eb-4fd6-80d0-bf0c60cf9e0f",
   "metadata": {},
   "outputs": [
    {
     "data": {
      "image/png": "[encoded data removed]",
      "text/plain": [
       "<Figure size 1440x432 with 2 Axes>"
      ]
     },
     "metadata": {
      "needs_background": "light"
     },
     "output_type": "display_data"
    }
   ],
   "source": [
    "epochs = [i for i in range(5)]\n",
    "fig , ax = plt.subplots(1,2)\n",
    "train_acc = history.history['accuracy']\n",
    "train_loss = history.history['loss']\n",
    "test_acc = history.history['val_accuracy']\n",
    "test_loss = history.history['val_loss']\n",
    "\n",
    "fig.set_size_inches(20,6)\n",
    "ax[0].plot(epochs , train_loss , label = 'Training Loss')\n",
    "ax[0].plot(epochs , test_loss , label = 'Testing Loss')\n",
    "ax[0].set_title('Training & Testing Loss')\n",
    "ax[0].legend()\n",
    "ax[0].set_xlabel(\"Epochs\")\n",
    "\n",
    "ax[1].plot(epochs , train_acc , label = 'Training Accuracy')\n",
    "ax[1].plot(epochs , test_acc , label = 'Testing Accuracy')\n",
    "ax[1].set_title('Training & Testing Accuracy')\n",
    "ax[1].legend()\n",
    "ax[1].set_xlabel(\"Epochs\")\n",
    "plt.show()"
   ]
  },
  {
   "cell_type": "code",
   "execution_count": 75,
   "id": "7e5bf2a3-22a6-4c01-b5d3-95703aeb4b1a",
   "metadata": {},
   "outputs": [
    {
     "name": "stdout",
     "output_type": "stream",
     "text": [
      "495/495 [==============================] - 8s 16ms/step - loss: 0.9673 - accuracy: 0.6302\n"
     ]
    },
    {
     "data": {
      "text/plain": [
       "[0.9673157930374146, 0.6302382946014404]"
      ]
     },
     "execution_count": 75,
     "metadata": {},
     "output_type": "execute_result"
    }
   ],
   "source": [
    "model.evaluate(X_test, y_test)"
   ]
  },
  {
   "cell_type": "code",
   "execution_count": 76,
   "id": "f1c5e701-bd78-410e-ab03-e6af44da06d2",
   "metadata": {},
   "outputs": [],
   "source": [
    "pred = model.predict(X_test)"
   ]
  },
  {
   "cell_type": "code",
   "execution_count": 77,
   "id": "b87c1d6f-b407-4d55-be31-730197bb714c",
   "metadata": {},
   "outputs": [],
   "source": [
    "pred = [np.argmax(x) for x in pred]"
   ]
  },
  {
   "cell_type": "code",
   "execution_count": 78,
   "id": "6932878f-bc08-48b4-9536-8117659878b2",
   "metadata": {},
   "outputs": [],
   "source": [
    "y_test_v = [np.argmax(x) for x in y_test]"
   ]
  },
  {
   "cell_type": "code",
   "execution_count": 79,
   "id": "ec1f6001-519c-46e3-a14a-5e27f4912933",
   "metadata": {},
   "outputs": [
    {
     "data": {
      "image/png": "[encoded data removed]",
      "text/plain": [
       "<Figure size 864x720 with 2 Axes>"
      ]
     },
     "metadata": {
      "needs_background": "light"
     },
     "output_type": "display_data"
    }
   ],
   "source": [
    "cm = confusion_matrix(pred, y_test_v)\n",
    "plt.figure(figsize = (12, 10))\n",
    "cm = pd.DataFrame(cm , columns = en.categories_[0])\n",
    "sns.heatmap(cm, linecolor='white', cmap='Blues', linewidth=1, annot=True, fmt='')\n",
    "plt.title('Confusion Matrix', size=20)\n",
    "plt.xlabel('Predicted Labels', size=14)\n",
    "plt.ylabel('Actual Labels', size=14)\n",
    "plt.show()"
   ]
  },
  {
   "cell_type": "code",
   "execution_count": 80,
   "id": "3af960cf-1f32-433a-8db1-8f526b34d285",
   "metadata": {},
   "outputs": [
    {
     "name": "stdout",
     "output_type": "stream",
     "text": [
      "              precision    recall  f1-score   support\n",
      "\n",
      "       anger       0.45      0.50      0.48      1809\n",
      "   happiness       0.72      0.82      0.76      5581\n",
      "     neutral       0.70      0.54      0.61      6265\n",
      "     sadness       0.52      0.52      0.52       976\n",
      "    surprise       0.37      0.52      0.43      1190\n",
      "\n",
      "    accuracy                           0.63     15821\n",
      "   macro avg       0.55      0.58      0.56     15821\n",
      "weighted avg       0.64      0.63      0.63     15821\n",
      "\n"
     ]
    }
   ],
   "source": [
    "print(classification_report(pred, y_test_v, target_names=en.categories_[0]))"
   ]
  },
  {
   "cell_type": "code",
   "execution_count": 81,
   "id": "559312af-e3e8-41bb-bd3f-9a7cdcf773e6",
   "metadata": {},
   "outputs": [
    {
     "data": {
      "text/plain": [
       "0.5527726652448904"
      ]
     },
     "execution_count": 81,
     "metadata": {},
     "output_type": "execute_result"
    }
   ],
   "source": [
    "precision_score(pred, y_test_v, average=\"macro\")"
   ]
  },
  {
   "cell_type": "code",
   "execution_count": 82,
   "id": "3efdec09-b8a8-4744-a189-9e184380d8a4",
   "metadata": {},
   "outputs": [
    {
     "data": {
      "text/plain": [
       "0.5797265367978068"
      ]
     },
     "execution_count": 82,
     "metadata": {},
     "output_type": "execute_result"
    }
   ],
   "source": [
    "recall_score(pred, y_test_v, average=\"macro\")"
   ]
  },
  {
   "cell_type": "code",
   "execution_count": 83,
   "id": "178fbb87-f469-4d8a-a761-be6ebbf7c190",
   "metadata": {},
   "outputs": [
    {
     "data": {
      "text/plain": [
       "0.5606269738739269"
      ]
     },
     "execution_count": 83,
     "metadata": {},
     "output_type": "execute_result"
    }
   ],
   "source": [
    "f1_score(pred, y_test_v, average=\"macro\")"
   ]
  },
  {
   "cell_type": "markdown",
   "id": "2bac46c2-6e56-42b1-9382-553008dd32d2",
   "metadata": {},
   "source": [
    "## Inference"
   ]
  },
  {
   "cell_type": "code",
   "execution_count": 84,
   "id": "96b1ad47-5cb7-43e5-8a6a-34a04bbbe7f5",
   "metadata": {},
   "outputs": [],
   "source": [
    "# Tweets cleaning\n",
    "\n",
    "def remove_hashtags_mentions(sent):\n",
    "    removed_mentions = re.sub(\"@[A-Za-z0-9_]+\", \"\", sent)\n",
    "    removed_hashtags = re.sub(\"#[A-Za-z0-9_]+\",\"\", removed_mentions)\n",
    "    return removed_hashtags"
   ]
  },
  {
   "cell_type": "code",
   "execution_count": 85,
   "id": "b9b1bb43-c640-474c-9359-02e543c0e072",
   "metadata": {},
   "outputs": [],
   "source": [
    "# lowercase\n",
    "def lower_case(sent):\n",
    "    return sent.lower()"
   ]
  },
  {
   "cell_type": "code",
   "execution_count": 86,
   "id": "f750b222-3f70-4fdd-ac57-e36326378cf8",
   "metadata": {},
   "outputs": [],
   "source": [
    "# Removing Punctuation\n",
    "def remove_punctuation(sent):\n",
    "    return \" \".join([char for char in sent.split() if char not in string.punctuation])"
   ]
  },
  {
   "cell_type": "code",
   "execution_count": 87,
   "id": "0fdc9cb0-7d7a-4e6b-aa45-e5260b0808e7",
   "metadata": {},
   "outputs": [],
   "source": [
    "def clean_pipeline(sentence):\n",
    "    \n",
    "    sent = remove_hashtags_mentions(sentence)\n",
    "    sent = lower_case(sent)\n",
    "    sent = remove_punctuation(sent)\n",
    "    \n",
    "    return sent"
   ]
  },
  {
   "cell_type": "code",
   "execution_count": 88,
   "id": "d7d2ee0c-e05a-4e13-a656-4cec6eff8851",
   "metadata": {},
   "outputs": [],
   "source": [
    "embedding_dim = 300\n",
    "max_length = 350\n",
    "trunc_type='post'\n",
    "padding_type='post'\n",
    "oov_tok = \"<OOV>\""
   ]
  },
  {
   "cell_type": "code",
   "execution_count": 89,
   "id": "639fe1f0-99c4-4659-ba05-b2eb00503106",
   "metadata": {},
   "outputs": [],
   "source": [
    "sequences = tokenizer.texts_to_sequences(data[\"preprocessed text\"].values)\n",
    "padded = pad_sequences(sequences, maxlen=max_length, padding=padding_type, truncating=trunc_type)"
   ]
  },
  {
   "cell_type": "code",
   "execution_count": 90,
   "id": "057af1d2-478b-4bc2-8f16-3623b61d3f81",
   "metadata": {},
   "outputs": [],
   "source": [
    "emotion_dict = ['anger', 'happiness', 'neutral', 'sadness', 'surprise']"
   ]
  },
  {
   "cell_type": "code",
   "execution_count": 56,
   "id": "08134bae-236e-4839-9fed-964f80677fea",
   "metadata": {},
   "outputs": [],
   "source": [
    "model = load_model(\"./API/emotion_pred_model.h5\")"
   ]
  },
  {
   "cell_type": "code",
   "execution_count": 93,
   "id": "844caada-0e7b-4691-8533-ef7203183b66",
   "metadata": {},
   "outputs": [],
   "source": [
    "def emotion_inference(text):\n",
    "    if type(text) is str:\n",
    "        p_text = clean_pipeline(text)\n",
    "        sequences = tokenizer.texts_to_sequences([p_text])\n",
    "    else:\n",
    "        p_text = [clean_pipeline(x) for x in text]\n",
    "        sequences = tokenizer.texts_to_sequences(p_text)\n",
    "        \n",
    "    padded = pad_sequences(sequences, maxlen=max_length, padding=padding_type, truncating=trunc_type)\n",
    "    padded = np.array(padded)\n",
    "    \n",
    "    pred_l = model.predict(padded)\n",
    "    \n",
    "    pred = [np.argmax(x) for x in pred_l]\n",
    "    emotion = [emotion_dict[x] for x in pred]\n",
    "    \n",
    "    percentage = [x * 100 for x in pred_l]\n",
    "    percentage = [list(map(str, l)) for l in percentage]\n",
    "    \n",
    "    return list(zip(emotion, percentage))"
   ]
  },
  {
   "cell_type": "code",
   "execution_count": 94,
   "id": "bfae4cbf-d1d2-44ef-bbc0-4756be25a948",
   "metadata": {},
   "outputs": [
    {
     "data": {
      "text/plain": [
       "[('anger', ['88.61584', '0.9432026', '8.457604', '0.33976802', '1.6435978']),\n",
       " ('happiness',\n",
       "  ['1.3874488', '88.896576', '7.6792283', '0.50293475', '1.5338088']),\n",
       " ('surprise',\n",
       "  ['5.1574802', '20.700146', '26.207664', '6.1261406', '41.808567'])]"
      ]
     },
     "execution_count": 94,
     "metadata": {},
     "output_type": "execute_result"
    }
   ],
   "source": [
    "emotion_inference([\"I hate you all\", \" I like yall\", \"OMG i never expected this\"])"
   ]
  },
  {
   "cell_type": "code",
   "execution_count": null,
   "id": "cdc63e41-1e7e-4ef2-80eb-3d90c36ec7cb",
   "metadata": {},
   "outputs": [],
   "source": [
    "emotion_inference(\"I hate you all\")"
   ]
  },
  {
   "cell_type": "code",
   "execution_count": null,
   "id": "0bae17fc-8e0c-49c2-98ac-ab38d5e45685",
   "metadata": {},
   "outputs": [],
   "source": []
  }
 ],
 "metadata": {
  "kernelspec": {
   "display_name": "tf-gpu",
   "language": "python",
   "name": "tf-gpu"
  },
  "language_info": {
   "codemirror_mode": {
    "name": "ipython",
    "version": 3
   },
   "file_extension": ".py",
   "mimetype": "text/x-python",
   "name": "python",
   "nbconvert_exporter": "python",
   "pygments_lexer": "ipython3",
   "version": "3.8.8"
  }
 },
 "nbformat": 4,
 "nbformat_minor": 5
}
