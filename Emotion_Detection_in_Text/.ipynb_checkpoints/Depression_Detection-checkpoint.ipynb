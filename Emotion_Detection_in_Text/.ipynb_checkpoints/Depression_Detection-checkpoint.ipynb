{
 "cells": [
  {
   "cell_type": "markdown",
   "id": "a47587d3-1e46-4805-86bf-a511dccc1ae4",
   "metadata": {},
   "source": [
    "# Detecting Depression from text"
   ]
  },
  {
   "cell_type": "markdown",
   "id": "11dbdf8a-eac3-4207-9978-e40c893f8444",
   "metadata": {},
   "source": [
    "## Import Libraries"
   ]
  },
  {
   "cell_type": "code",
   "execution_count": 1,
   "id": "9171caff-bd46-4630-a5fe-7854a594b257",
   "metadata": {},
   "outputs": [],
   "source": [
    "import numpy as np \n",
    "import pandas as pd\n",
    "\n",
    "from sklearn.model_selection import train_test_split\n",
    "import matplotlib.pyplot as plt\n",
    "from sklearn.metrics import confusion_matrix, classification_report, f1_score, precision_score, recall_score\n",
    "\n",
    "import tensorflow as tf\n",
    "from tensorflow.keras.layers import Embedding,Dense,LSTM,Bidirectional,GlobalMaxPooling1D,Input,Dropout, Flatten\n",
    "from tensorflow.keras.callbacks import EarlyStopping,ReduceLROnPlateau\n",
    "from tensorflow.keras.models import Sequential, load_model\n",
    "from sklearn.preprocessing import LabelEncoder\n",
    "from tensorflow.keras.preprocessing.text import Tokenizer\n",
    "from tensorflow.keras.preprocessing.sequence import pad_sequences\n",
    "\n",
    "import nltk\n",
    "from nltk.corpus import stopwords\n",
    "import string\n",
    "\n",
    "from tqdm import tqdm\n",
    "import seaborn as sns\n",
    "from wordcloud import WordCloud\n",
    "import re\n",
    "import string\n",
    "import pickle\n",
    "import warnings\n",
    "warnings.filterwarnings('ignore')"
   ]
  },
  {
   "cell_type": "markdown",
   "id": "bd0d5641-1a23-4aa8-a095-f285151dee32",
   "metadata": {},
   "source": [
    "## Load Data"
   ]
  },
  {
   "cell_type": "code",
   "execution_count": 2,
   "id": "b1b0eb3a-0828-48e4-96dc-29cadd6fe7eb",
   "metadata": {},
   "outputs": [],
   "source": [
    "data = pd.read_csv('./data/depressed_non_depressed_tweets.csv')\n",
    "data = data.drop(\"Unnamed: 0\", axis=1)"
   ]
  },
  {
   "cell_type": "code",
   "execution_count": 3,
   "id": "d335eb83-042a-4060-8fb0-c4b820fcff73",
   "metadata": {},
   "outputs": [
    {
     "data": {
      "text/html": [
       "<div>\n",
       "<style scoped>\n",
       "    .dataframe tbody tr th:only-of-type {\n",
       "        vertical-align: middle;\n",
       "    }\n",
       "\n",
       "    .dataframe tbody tr th {\n",
       "        vertical-align: top;\n",
       "    }\n",
       "\n",
       "    .dataframe thead th {\n",
       "        text-align: right;\n",
       "    }\n",
       "</style>\n",
       "<table border=\"1\" class=\"dataframe\">\n",
       "  <thead>\n",
       "    <tr style=\"text-align: right;\">\n",
       "      <th></th>\n",
       "      <th>tweet</th>\n",
       "      <th>target</th>\n",
       "    </tr>\n",
       "  </thead>\n",
       "  <tbody>\n",
       "    <tr>\n",
       "      <th>0</th>\n",
       "      <td>Today in Selfcare: beauty &amp;amp; laughs Kung Fu...</td>\n",
       "      <td>0</td>\n",
       "    </tr>\n",
       "    <tr>\n",
       "      <th>1</th>\n",
       "      <td>I get to spend New Year's home again alone and...</td>\n",
       "      <td>1</td>\n",
       "    </tr>\n",
       "    <tr>\n",
       "      <th>2</th>\n",
       "      <td>Depressed and lonely /: Stuck in a deep, never...</td>\n",
       "      <td>1</td>\n",
       "    </tr>\n",
       "    <tr>\n",
       "      <th>3</th>\n",
       "      <td>If this is your response to someone saying the...</td>\n",
       "      <td>0</td>\n",
       "    </tr>\n",
       "    <tr>\n",
       "      <th>4</th>\n",
       "      <td>Apparently you get a free pass just by mention...</td>\n",
       "      <td>0</td>\n",
       "    </tr>\n",
       "  </tbody>\n",
       "</table>\n",
       "</div>"
      ],
      "text/plain": [
       "                                               tweet  target\n",
       "0  Today in Selfcare: beauty &amp; laughs Kung Fu...       0\n",
       "1  I get to spend New Year's home again alone and...       1\n",
       "2  Depressed and lonely /: Stuck in a deep, never...       1\n",
       "3  If this is your response to someone saying the...       0\n",
       "4  Apparently you get a free pass just by mention...       0"
      ]
     },
     "execution_count": 3,
     "metadata": {},
     "output_type": "execute_result"
    }
   ],
   "source": [
    "data.head()"
   ]
  },
  {
   "cell_type": "markdown",
   "id": "c9f02afb-dd9b-4ccc-a099-5d7ed2c75447",
   "metadata": {},
   "source": [
    "## EDA"
   ]
  },
  {
   "cell_type": "code",
   "execution_count": 4,
   "id": "fee337a3-7259-4937-a90a-5825cbce60c2",
   "metadata": {},
   "outputs": [
    {
     "name": "stdout",
     "output_type": "stream",
     "text": [
      "<class 'pandas.core.frame.DataFrame'>\n",
      "RangeIndex: 3200 entries, 0 to 3199\n",
      "Data columns (total 2 columns):\n",
      " #   Column  Non-Null Count  Dtype \n",
      "---  ------  --------------  ----- \n",
      " 0   tweet   3200 non-null   object\n",
      " 1   target  3200 non-null   int64 \n",
      "dtypes: int64(1), object(1)\n",
      "memory usage: 50.1+ KB\n"
     ]
    }
   ],
   "source": [
    "data.info()"
   ]
  },
  {
   "cell_type": "code",
   "execution_count": 5,
   "id": "65f61e41-5252-4b69-ae17-301238fe14fb",
   "metadata": {},
   "outputs": [
    {
     "data": {
      "text/html": [
       "<div>\n",
       "<style scoped>\n",
       "    .dataframe tbody tr th:only-of-type {\n",
       "        vertical-align: middle;\n",
       "    }\n",
       "\n",
       "    .dataframe tbody tr th {\n",
       "        vertical-align: top;\n",
       "    }\n",
       "\n",
       "    .dataframe thead th {\n",
       "        text-align: right;\n",
       "    }\n",
       "</style>\n",
       "<table border=\"1\" class=\"dataframe\">\n",
       "  <thead>\n",
       "    <tr style=\"text-align: right;\">\n",
       "      <th></th>\n",
       "      <th>target</th>\n",
       "    </tr>\n",
       "  </thead>\n",
       "  <tbody>\n",
       "    <tr>\n",
       "      <th>count</th>\n",
       "      <td>3200.000000</td>\n",
       "    </tr>\n",
       "    <tr>\n",
       "      <th>mean</th>\n",
       "      <td>0.263437</td>\n",
       "    </tr>\n",
       "    <tr>\n",
       "      <th>std</th>\n",
       "      <td>0.440566</td>\n",
       "    </tr>\n",
       "    <tr>\n",
       "      <th>min</th>\n",
       "      <td>0.000000</td>\n",
       "    </tr>\n",
       "    <tr>\n",
       "      <th>25%</th>\n",
       "      <td>0.000000</td>\n",
       "    </tr>\n",
       "    <tr>\n",
       "      <th>50%</th>\n",
       "      <td>0.000000</td>\n",
       "    </tr>\n",
       "    <tr>\n",
       "      <th>75%</th>\n",
       "      <td>1.000000</td>\n",
       "    </tr>\n",
       "    <tr>\n",
       "      <th>max</th>\n",
       "      <td>1.000000</td>\n",
       "    </tr>\n",
       "  </tbody>\n",
       "</table>\n",
       "</div>"
      ],
      "text/plain": [
       "            target\n",
       "count  3200.000000\n",
       "mean      0.263437\n",
       "std       0.440566\n",
       "min       0.000000\n",
       "25%       0.000000\n",
       "50%       0.000000\n",
       "75%       1.000000\n",
       "max       1.000000"
      ]
     },
     "execution_count": 5,
     "metadata": {},
     "output_type": "execute_result"
    }
   ],
   "source": [
    "data.describe()"
   ]
  },
  {
   "cell_type": "code",
   "execution_count": 6,
   "id": "d6cb5da7-37f7-486a-9f29-6be67b6696cd",
   "metadata": {},
   "outputs": [
    {
     "data": {
      "text/plain": [
       "0    2357\n",
       "1     843\n",
       "Name: target, dtype: int64"
      ]
     },
     "execution_count": 6,
     "metadata": {},
     "output_type": "execute_result"
    }
   ],
   "source": [
    "data[\"target\"].value_counts()"
   ]
  },
  {
   "cell_type": "code",
   "execution_count": 7,
   "id": "7e6591d3-a285-43c1-a5e3-34c49b0ae36b",
   "metadata": {},
   "outputs": [
    {
     "data": {
      "text/plain": [
       "tweet     0\n",
       "target    0\n",
       "dtype: int64"
      ]
     },
     "execution_count": 7,
     "metadata": {},
     "output_type": "execute_result"
    }
   ],
   "source": [
    "data.isnull().sum()"
   ]
  },
  {
   "cell_type": "markdown",
   "id": "01d6ad35-24ca-46be-92ca-7b465c0c98e8",
   "metadata": {},
   "source": [
    "## Data Cleaning"
   ]
  },
  {
   "cell_type": "code",
   "execution_count": 8,
   "id": "625a622c-049e-4980-a9ab-f9bb1c2c11fb",
   "metadata": {},
   "outputs": [],
   "source": [
    "# Drop Duplicates\n",
    "data = data.drop_duplicates().reset_index()"
   ]
  },
  {
   "cell_type": "code",
   "execution_count": 9,
   "id": "ce33a0a5-8cc9-4636-a8be-61bd7b610e7d",
   "metadata": {},
   "outputs": [
    {
     "data": {
      "text/html": [
       "<div>\n",
       "<style scoped>\n",
       "    .dataframe tbody tr th:only-of-type {\n",
       "        vertical-align: middle;\n",
       "    }\n",
       "\n",
       "    .dataframe tbody tr th {\n",
       "        vertical-align: top;\n",
       "    }\n",
       "\n",
       "    .dataframe thead th {\n",
       "        text-align: right;\n",
       "    }\n",
       "</style>\n",
       "<table border=\"1\" class=\"dataframe\">\n",
       "  <thead>\n",
       "    <tr style=\"text-align: right;\">\n",
       "      <th></th>\n",
       "      <th>index</th>\n",
       "      <th>tweet</th>\n",
       "      <th>target</th>\n",
       "    </tr>\n",
       "  </thead>\n",
       "  <tbody>\n",
       "    <tr>\n",
       "      <th>0</th>\n",
       "      <td>0</td>\n",
       "      <td>Today in Selfcare: beauty &amp;amp; laughs Kung Fu...</td>\n",
       "      <td>0</td>\n",
       "    </tr>\n",
       "    <tr>\n",
       "      <th>1</th>\n",
       "      <td>1</td>\n",
       "      <td>I get to spend New Year's home again alone and...</td>\n",
       "      <td>1</td>\n",
       "    </tr>\n",
       "    <tr>\n",
       "      <th>2</th>\n",
       "      <td>2</td>\n",
       "      <td>Depressed and lonely /: Stuck in a deep, never...</td>\n",
       "      <td>1</td>\n",
       "    </tr>\n",
       "    <tr>\n",
       "      <th>3</th>\n",
       "      <td>3</td>\n",
       "      <td>If this is your response to someone saying the...</td>\n",
       "      <td>0</td>\n",
       "    </tr>\n",
       "    <tr>\n",
       "      <th>4</th>\n",
       "      <td>4</td>\n",
       "      <td>Apparently you get a free pass just by mention...</td>\n",
       "      <td>0</td>\n",
       "    </tr>\n",
       "    <tr>\n",
       "      <th>...</th>\n",
       "      <td>...</td>\n",
       "      <td>...</td>\n",
       "      <td>...</td>\n",
       "    </tr>\n",
       "    <tr>\n",
       "      <th>3094</th>\n",
       "      <td>3194</td>\n",
       "      <td>Depression is like wearing a one of those weig...</td>\n",
       "      <td>1</td>\n",
       "    </tr>\n",
       "    <tr>\n",
       "      <th>3095</th>\n",
       "      <td>3195</td>\n",
       "      <td>May the new year abound in H’s: Health, Hope, ...</td>\n",
       "      <td>0</td>\n",
       "    </tr>\n",
       "    <tr>\n",
       "      <th>3096</th>\n",
       "      <td>3196</td>\n",
       "      <td>It is not a beautiful day as usual.</td>\n",
       "      <td>1</td>\n",
       "    </tr>\n",
       "    <tr>\n",
       "      <th>3097</th>\n",
       "      <td>3197</td>\n",
       "      <td>Compact Metal Leaf Grinder with Four Layers  p...</td>\n",
       "      <td>0</td>\n",
       "    </tr>\n",
       "    <tr>\n",
       "      <th>3098</th>\n",
       "      <td>3198</td>\n",
       "      <td>First Christmas in YEARS that I have to work. ...</td>\n",
       "      <td>0</td>\n",
       "    </tr>\n",
       "  </tbody>\n",
       "</table>\n",
       "<p>3099 rows × 3 columns</p>\n",
       "</div>"
      ],
      "text/plain": [
       "      index                                              tweet  target\n",
       "0         0  Today in Selfcare: beauty &amp; laughs Kung Fu...       0\n",
       "1         1  I get to spend New Year's home again alone and...       1\n",
       "2         2  Depressed and lonely /: Stuck in a deep, never...       1\n",
       "3         3  If this is your response to someone saying the...       0\n",
       "4         4  Apparently you get a free pass just by mention...       0\n",
       "...     ...                                                ...     ...\n",
       "3094   3194  Depression is like wearing a one of those weig...       1\n",
       "3095   3195  May the new year abound in H’s: Health, Hope, ...       0\n",
       "3096   3196                It is not a beautiful day as usual.       1\n",
       "3097   3197  Compact Metal Leaf Grinder with Four Layers  p...       0\n",
       "3098   3198  First Christmas in YEARS that I have to work. ...       0\n",
       "\n",
       "[3099 rows x 3 columns]"
      ]
     },
     "execution_count": 9,
     "metadata": {},
     "output_type": "execute_result"
    }
   ],
   "source": [
    "data"
   ]
  },
  {
   "cell_type": "code",
   "execution_count": 10,
   "id": "cb0b54c0-a30f-4d41-a0c1-e164e9378218",
   "metadata": {},
   "outputs": [
    {
     "data": {
      "text/plain": [
       "'Today in Selfcare: beauty &amp; laughs Kung Fu Panda 3 #Wellness #joy #laughter #selfcare #therapist #philadelphia'"
      ]
     },
     "execution_count": 10,
     "metadata": {},
     "output_type": "execute_result"
    }
   ],
   "source": [
    "data.iloc[0][\"tweet\"]"
   ]
  },
  {
   "cell_type": "code",
   "execution_count": 11,
   "id": "635f973f-bd48-4c6d-8b50-a05c1395f0c4",
   "metadata": {},
   "outputs": [
    {
     "data": {
      "text/plain": [
       "array(['Today in Selfcare: beauty &amp; laughs Kung Fu Panda 3 #Wellness #joy #laughter #selfcare #therapist #philadelphia',\n",
       "       \"I get to spend New Year's home again alone and lonely. ???• \",\n",
       "       'Depressed and lonely /: Stuck in a deep, never ending hole :(  ',\n",
       "       ..., 'It is not a beautiful day as usual.',\n",
       "       'Compact Metal Leaf Grinder with Four Layers  pic.twitter.com/VTan3PBT6H',\n",
       "       \"First Christmas in YEARS that I have to work.  it just doesn't feel the same.\"],\n",
       "      dtype=object)"
      ]
     },
     "execution_count": 11,
     "metadata": {},
     "output_type": "execute_result"
    }
   ],
   "source": [
    "data[\"tweet\"].values"
   ]
  },
  {
   "cell_type": "markdown",
   "id": "dccb7b6a-4222-42a1-bd88-51f2fda8f0ff",
   "metadata": {},
   "source": [
    "## Data Preprocessing Pipeline"
   ]
  },
  {
   "cell_type": "code",
   "execution_count": 12,
   "id": "43a3f68c-eb0c-4224-9125-9252198053d1",
   "metadata": {},
   "outputs": [],
   "source": [
    "# Tweets cleaning\n",
    "\n",
    "def remove_hashtags_mentions(sent):\n",
    "    removed_mentions = re.sub(\"@[A-Za-z0-9_]+\", \"\", sent)\n",
    "    removed_hashtags = re.sub(\"#[A-Za-z0-9_]+\",\"\", removed_mentions)\n",
    "    return removed_hashtags"
   ]
  },
  {
   "cell_type": "code",
   "execution_count": 13,
   "id": "544265f4-d330-4736-8aa7-d86d07b64fa6",
   "metadata": {},
   "outputs": [],
   "source": [
    "# lowercase\n",
    "def lower_case(sent):\n",
    "    return sent.lower()"
   ]
  },
  {
   "cell_type": "code",
   "execution_count": 14,
   "id": "7fcb285c-a474-4fff-959d-43adc489f87e",
   "metadata": {},
   "outputs": [],
   "source": [
    "# Removing Punctuation\n",
    "def remove_punctuation(sent):\n",
    "    return \" \".join([char for char in sent.split() if char not in string.punctuation])"
   ]
  },
  {
   "cell_type": "code",
   "execution_count": 15,
   "id": "91937a70-d9ed-40fe-bc77-2c1216b1cb1d",
   "metadata": {},
   "outputs": [
    {
     "data": {
      "text/plain": [
       "'!\"#$%&\\'()*+,-./:;<=>?@[\\\\]^_`{|}~'"
      ]
     },
     "execution_count": 15,
     "metadata": {},
     "output_type": "execute_result"
    }
   ],
   "source": [
    "string.punctuation"
   ]
  },
  {
   "cell_type": "code",
   "execution_count": 16,
   "id": "7e91f147-a8e8-40ab-919a-b887f60d67fe",
   "metadata": {},
   "outputs": [],
   "source": [
    "# Tokenize\n",
    "def tokenize_sent(sent):\n",
    "    return nltk.word_tokenize(sent)"
   ]
  },
  {
   "cell_type": "code",
   "execution_count": 17,
   "id": "e710e555-b9fe-4e54-80b6-a3dcd3bdc4f9",
   "metadata": {},
   "outputs": [
    {
     "name": "stdout",
     "output_type": "stream",
     "text": [
      "['i', 'me', 'my', 'myself', 'we', 'our', 'ours', 'ourselves', 'you', \"you're\", \"you've\", \"you'll\", \"you'd\", 'your', 'yours', 'yourself', 'yourselves', 'he', 'him', 'his', 'himself', 'she', \"she's\", 'her', 'hers', 'herself', 'it', \"it's\", 'its', 'itself', 'they', 'them', 'their', 'theirs', 'themselves', 'what', 'which', 'who', 'whom', 'this', 'that', \"that'll\", 'these', 'those', 'am', 'is', 'are', 'was', 'were', 'be', 'been', 'being', 'have', 'has', 'had', 'having', 'do', 'does', 'did', 'doing', 'a', 'an', 'the', 'and', 'but', 'if', 'or', 'because', 'as', 'until', 'while', 'of', 'at', 'by', 'for', 'with', 'about', 'against', 'between', 'into', 'through', 'during', 'before', 'after', 'above', 'below', 'to', 'from', 'up', 'down', 'in', 'out', 'on', 'off', 'over', 'under', 'again', 'further', 'then', 'once', 'here', 'there', 'when', 'where', 'why', 'how', 'all', 'any', 'both', 'each', 'few', 'more', 'most', 'other', 'some', 'such', 'no', 'nor', 'not', 'only', 'own', 'same', 'so', 'than', 'too', 'very', 's', 't', 'can', 'will', 'just', 'don', \"don't\", 'should', \"should've\", 'now', 'd', 'll', 'm', 'o', 're', 've', 'y', 'ain', 'aren', \"aren't\", 'couldn', \"couldn't\", 'didn', \"didn't\", 'doesn', \"doesn't\", 'hadn', \"hadn't\", 'hasn', \"hasn't\", 'haven', \"haven't\", 'isn', \"isn't\", 'ma', 'mightn', \"mightn't\", 'mustn', \"mustn't\", 'needn', \"needn't\", 'shan', \"shan't\", 'shouldn', \"shouldn't\", 'wasn', \"wasn't\", 'weren', \"weren't\", 'won', \"won't\", 'wouldn', \"wouldn't\"]\n"
     ]
    }
   ],
   "source": [
    "# Stopword Filtering\n",
    "stop_words = stopwords.words('english')\n",
    "print(stop_words)"
   ]
  },
  {
   "cell_type": "code",
   "execution_count": 18,
   "id": "992843ce-31b8-43d5-9586-154608b1bda4",
   "metadata": {},
   "outputs": [],
   "source": [
    "def filter_stopwords(tokens):\n",
    "    return \" \".join([word for word in tokens.split() if word not in stop_words])"
   ]
  },
  {
   "cell_type": "code",
   "execution_count": 19,
   "id": "673d7087-426c-4c83-9a8d-824e7301920c",
   "metadata": {},
   "outputs": [],
   "source": [
    "# Lemmatization\n",
    "wordnet_lemmatizer = nltk.WordNetLemmatizer()"
   ]
  },
  {
   "cell_type": "code",
   "execution_count": 20,
   "id": "63392b0a-cdf5-4ecb-93c9-b11c01987082",
   "metadata": {},
   "outputs": [],
   "source": [
    "def lemmatizer(tokens):\n",
    "    return \" \".join([wordnet_lemmatizer.lemmatize(word) for word in tokens.split()])"
   ]
  },
  {
   "cell_type": "code",
   "execution_count": 21,
   "id": "ea6776b3-730b-434b-b1cc-a7cad2e3d352",
   "metadata": {},
   "outputs": [],
   "source": [
    "def preprocess_pipeline(sentence):\n",
    "    \n",
    "    sent = remove_hashtags_mentions(sentence)\n",
    "    sent = lower_case(sent)\n",
    "    sent = remove_punctuation(sent)\n",
    "    \n",
    "#     sent = filter_stopwords(sent)\n",
    "    \n",
    "#     preprocessed_sent = lemmatizer(sent)\n",
    "    if sent is float:\n",
    "        return None\n",
    "    \n",
    "    return sent"
   ]
  },
  {
   "cell_type": "code",
   "execution_count": 22,
   "id": "c77a5251-0b57-4dd4-9c1e-e9998f8ca3c4",
   "metadata": {},
   "outputs": [
    {
     "name": "stdout",
     "output_type": "stream",
     "text": [
      "today in selfcare: beauty &amp; laughs kung fu panda 3\n"
     ]
    }
   ],
   "source": [
    "# small test\n",
    "print(preprocess_pipeline(data.iloc[0][\"tweet\"]))"
   ]
  },
  {
   "cell_type": "markdown",
   "id": "debfe02a-5a50-4b13-99a1-5d035e863955",
   "metadata": {},
   "source": [
    "### Preprocess the Data"
   ]
  },
  {
   "cell_type": "code",
   "execution_count": 23,
   "id": "07d5ae11-95dd-448d-a8b3-d1116c69d1ca",
   "metadata": {},
   "outputs": [],
   "source": [
    "data[\"preprocessed text\"] = data[\"tweet\"].apply(preprocess_pipeline)"
   ]
  },
  {
   "cell_type": "code",
   "execution_count": 24,
   "id": "4ae95841-c5ab-4719-be50-f8d80a3773da",
   "metadata": {},
   "outputs": [
    {
     "data": {
      "text/html": [
       "<div>\n",
       "<style scoped>\n",
       "    .dataframe tbody tr th:only-of-type {\n",
       "        vertical-align: middle;\n",
       "    }\n",
       "\n",
       "    .dataframe tbody tr th {\n",
       "        vertical-align: top;\n",
       "    }\n",
       "\n",
       "    .dataframe thead th {\n",
       "        text-align: right;\n",
       "    }\n",
       "</style>\n",
       "<table border=\"1\" class=\"dataframe\">\n",
       "  <thead>\n",
       "    <tr style=\"text-align: right;\">\n",
       "      <th></th>\n",
       "      <th>index</th>\n",
       "      <th>tweet</th>\n",
       "      <th>target</th>\n",
       "      <th>preprocessed text</th>\n",
       "    </tr>\n",
       "  </thead>\n",
       "  <tbody>\n",
       "    <tr>\n",
       "      <th>0</th>\n",
       "      <td>0</td>\n",
       "      <td>Today in Selfcare: beauty &amp;amp; laughs Kung Fu...</td>\n",
       "      <td>0</td>\n",
       "      <td>today in selfcare: beauty &amp;amp; laughs kung fu...</td>\n",
       "    </tr>\n",
       "    <tr>\n",
       "      <th>1</th>\n",
       "      <td>1</td>\n",
       "      <td>I get to spend New Year's home again alone and...</td>\n",
       "      <td>1</td>\n",
       "      <td>i get to spend new year's home again alone and...</td>\n",
       "    </tr>\n",
       "    <tr>\n",
       "      <th>2</th>\n",
       "      <td>2</td>\n",
       "      <td>Depressed and lonely /: Stuck in a deep, never...</td>\n",
       "      <td>1</td>\n",
       "      <td>depressed and lonely stuck in a deep, never en...</td>\n",
       "    </tr>\n",
       "    <tr>\n",
       "      <th>3</th>\n",
       "      <td>3</td>\n",
       "      <td>If this is your response to someone saying the...</td>\n",
       "      <td>0</td>\n",
       "      <td>if this is your response to someone saying the...</td>\n",
       "    </tr>\n",
       "    <tr>\n",
       "      <th>4</th>\n",
       "      <td>4</td>\n",
       "      <td>Apparently you get a free pass just by mention...</td>\n",
       "      <td>0</td>\n",
       "      <td>apparently you get a free pass just by mention...</td>\n",
       "    </tr>\n",
       "  </tbody>\n",
       "</table>\n",
       "</div>"
      ],
      "text/plain": [
       "   index                                              tweet  target  \\\n",
       "0      0  Today in Selfcare: beauty &amp; laughs Kung Fu...       0   \n",
       "1      1  I get to spend New Year's home again alone and...       1   \n",
       "2      2  Depressed and lonely /: Stuck in a deep, never...       1   \n",
       "3      3  If this is your response to someone saying the...       0   \n",
       "4      4  Apparently you get a free pass just by mention...       0   \n",
       "\n",
       "                                   preprocessed text  \n",
       "0  today in selfcare: beauty &amp; laughs kung fu...  \n",
       "1  i get to spend new year's home again alone and...  \n",
       "2  depressed and lonely stuck in a deep, never en...  \n",
       "3  if this is your response to someone saying the...  \n",
       "4  apparently you get a free pass just by mention...  "
      ]
     },
     "execution_count": 24,
     "metadata": {},
     "output_type": "execute_result"
    }
   ],
   "source": [
    "data.head()"
   ]
  },
  {
   "cell_type": "code",
   "execution_count": 25,
   "id": "abcceab0-a57d-4070-824d-f7a436395f25",
   "metadata": {},
   "outputs": [],
   "source": [
    "data.to_csv(\"./data/preprocessed_depression_messages.csv\", index=False)"
   ]
  },
  {
   "cell_type": "code",
   "execution_count": 26,
   "id": "473ccd71-badd-4a0c-aa13-523051efbcfd",
   "metadata": {},
   "outputs": [],
   "source": [
    "data = pd.read_csv(\"./data/preprocessed_depression_messages.csv\")[[\"tweet\", \"target\", \"preprocessed text\"]]"
   ]
  },
  {
   "cell_type": "code",
   "execution_count": 27,
   "id": "c6da1d7a-a0f2-4ee9-af5c-a2abadac067d",
   "metadata": {},
   "outputs": [
    {
     "data": {
      "text/html": [
       "<div>\n",
       "<style scoped>\n",
       "    .dataframe tbody tr th:only-of-type {\n",
       "        vertical-align: middle;\n",
       "    }\n",
       "\n",
       "    .dataframe tbody tr th {\n",
       "        vertical-align: top;\n",
       "    }\n",
       "\n",
       "    .dataframe thead th {\n",
       "        text-align: right;\n",
       "    }\n",
       "</style>\n",
       "<table border=\"1\" class=\"dataframe\">\n",
       "  <thead>\n",
       "    <tr style=\"text-align: right;\">\n",
       "      <th></th>\n",
       "      <th>tweet</th>\n",
       "      <th>target</th>\n",
       "      <th>preprocessed text</th>\n",
       "    </tr>\n",
       "  </thead>\n",
       "  <tbody>\n",
       "    <tr>\n",
       "      <th>0</th>\n",
       "      <td>Today in Selfcare: beauty &amp;amp; laughs Kung Fu...</td>\n",
       "      <td>0</td>\n",
       "      <td>today in selfcare: beauty &amp;amp; laughs kung fu...</td>\n",
       "    </tr>\n",
       "    <tr>\n",
       "      <th>1</th>\n",
       "      <td>I get to spend New Year's home again alone and...</td>\n",
       "      <td>1</td>\n",
       "      <td>i get to spend new year's home again alone and...</td>\n",
       "    </tr>\n",
       "    <tr>\n",
       "      <th>2</th>\n",
       "      <td>Depressed and lonely /: Stuck in a deep, never...</td>\n",
       "      <td>1</td>\n",
       "      <td>depressed and lonely stuck in a deep, never en...</td>\n",
       "    </tr>\n",
       "    <tr>\n",
       "      <th>3</th>\n",
       "      <td>If this is your response to someone saying the...</td>\n",
       "      <td>0</td>\n",
       "      <td>if this is your response to someone saying the...</td>\n",
       "    </tr>\n",
       "    <tr>\n",
       "      <th>4</th>\n",
       "      <td>Apparently you get a free pass just by mention...</td>\n",
       "      <td>0</td>\n",
       "      <td>apparently you get a free pass just by mention...</td>\n",
       "    </tr>\n",
       "    <tr>\n",
       "      <th>...</th>\n",
       "      <td>...</td>\n",
       "      <td>...</td>\n",
       "      <td>...</td>\n",
       "    </tr>\n",
       "    <tr>\n",
       "      <th>3094</th>\n",
       "      <td>Depression is like wearing a one of those weig...</td>\n",
       "      <td>1</td>\n",
       "      <td>depression is like wearing a one of those weig...</td>\n",
       "    </tr>\n",
       "    <tr>\n",
       "      <th>3095</th>\n",
       "      <td>May the new year abound in H’s: Health, Hope, ...</td>\n",
       "      <td>0</td>\n",
       "      <td>may the new year abound in h’s: health, hope, ...</td>\n",
       "    </tr>\n",
       "    <tr>\n",
       "      <th>3096</th>\n",
       "      <td>It is not a beautiful day as usual.</td>\n",
       "      <td>1</td>\n",
       "      <td>it is not a beautiful day as usual.</td>\n",
       "    </tr>\n",
       "    <tr>\n",
       "      <th>3097</th>\n",
       "      <td>Compact Metal Leaf Grinder with Four Layers  p...</td>\n",
       "      <td>0</td>\n",
       "      <td>compact metal leaf grinder with four layers pi...</td>\n",
       "    </tr>\n",
       "    <tr>\n",
       "      <th>3098</th>\n",
       "      <td>First Christmas in YEARS that I have to work. ...</td>\n",
       "      <td>0</td>\n",
       "      <td>first christmas in years that i have to work. ...</td>\n",
       "    </tr>\n",
       "  </tbody>\n",
       "</table>\n",
       "<p>3099 rows × 3 columns</p>\n",
       "</div>"
      ],
      "text/plain": [
       "                                                  tweet  target  \\\n",
       "0     Today in Selfcare: beauty &amp; laughs Kung Fu...       0   \n",
       "1     I get to spend New Year's home again alone and...       1   \n",
       "2     Depressed and lonely /: Stuck in a deep, never...       1   \n",
       "3     If this is your response to someone saying the...       0   \n",
       "4     Apparently you get a free pass just by mention...       0   \n",
       "...                                                 ...     ...   \n",
       "3094  Depression is like wearing a one of those weig...       1   \n",
       "3095  May the new year abound in H’s: Health, Hope, ...       0   \n",
       "3096                It is not a beautiful day as usual.       1   \n",
       "3097  Compact Metal Leaf Grinder with Four Layers  p...       0   \n",
       "3098  First Christmas in YEARS that I have to work. ...       0   \n",
       "\n",
       "                                      preprocessed text  \n",
       "0     today in selfcare: beauty &amp; laughs kung fu...  \n",
       "1     i get to spend new year's home again alone and...  \n",
       "2     depressed and lonely stuck in a deep, never en...  \n",
       "3     if this is your response to someone saying the...  \n",
       "4     apparently you get a free pass just by mention...  \n",
       "...                                                 ...  \n",
       "3094  depression is like wearing a one of those weig...  \n",
       "3095  may the new year abound in h’s: health, hope, ...  \n",
       "3096                it is not a beautiful day as usual.  \n",
       "3097  compact metal leaf grinder with four layers pi...  \n",
       "3098  first christmas in years that i have to work. ...  \n",
       "\n",
       "[3099 rows x 3 columns]"
      ]
     },
     "execution_count": 27,
     "metadata": {},
     "output_type": "execute_result"
    }
   ],
   "source": [
    "data"
   ]
  },
  {
   "cell_type": "markdown",
   "id": "f9a9d62d-556b-4e2c-94a4-c6e1c065e934",
   "metadata": {},
   "source": [
    "## Building Tokenizer"
   ]
  },
  {
   "cell_type": "code",
   "execution_count": 28,
   "id": "d3c2df86-b680-452e-b42e-d146962520bd",
   "metadata": {},
   "outputs": [
    {
     "data": {
      "text/plain": [
       "array(['today in selfcare: beauty &amp; laughs kung fu panda 3',\n",
       "       \"i get to spend new year's home again alone and lonely. ???•\",\n",
       "       'depressed and lonely stuck in a deep, never ending hole :(', ...,\n",
       "       'it is not a beautiful day as usual.',\n",
       "       'compact metal leaf grinder with four layers pic.twitter.com/vtan3pbt6h',\n",
       "       \"first christmas in years that i have to work. it just doesn't feel the same.\"],\n",
       "      dtype=object)"
      ]
     },
     "execution_count": 28,
     "metadata": {},
     "output_type": "execute_result"
    }
   ],
   "source": [
    "data[\"preprocessed text\"].values"
   ]
  },
  {
   "cell_type": "code",
   "execution_count": 29,
   "id": "68853896-8d55-42bd-ada2-cb9666d39e77",
   "metadata": {},
   "outputs": [],
   "source": [
    "tokenizer = Tokenizer()\n",
    "tokenizer.fit_on_texts(data[\"tweet\"].values)\n",
    "\n",
    "word_index = tokenizer.word_index\n",
    "vocab_size=len(word_index)"
   ]
  },
  {
   "cell_type": "code",
   "execution_count": 30,
   "id": "361ab7c9-055e-4fcb-8ea2-6a92b77b1720",
   "metadata": {},
   "outputs": [],
   "source": [
    "with open(\"./API/depression_tokenizer.obj\", \"wb\") as f :\n",
    "    pickle.dump(tokenizer, f)"
   ]
  },
  {
   "cell_type": "code",
   "execution_count": 31,
   "id": "07a281c7-f1cc-4b4f-b634-17a53b48beab",
   "metadata": {},
   "outputs": [],
   "source": [
    "embedding_dim = 300\n",
    "max_length = 350\n",
    "trunc_type='post'\n",
    "padding_type='post'\n",
    "oov_tok = \"<OOV>\""
   ]
  },
  {
   "cell_type": "code",
   "execution_count": 32,
   "id": "663587ec-cfe5-4479-8a9f-ded4feb39ba2",
   "metadata": {},
   "outputs": [],
   "source": [
    "sequences = tokenizer.texts_to_sequences(data[\"tweet\"].values)\n",
    "padded = pad_sequences(sequences, maxlen=max_length, padding=padding_type, truncating=trunc_type)"
   ]
  },
  {
   "cell_type": "markdown",
   "id": "b9aebf03-326b-405b-8418-d8d0810f6545",
   "metadata": {},
   "source": [
    "## Train Test Split"
   ]
  },
  {
   "cell_type": "code",
   "execution_count": 33,
   "id": "ec6e83dc-0fc2-4431-bc85-8fed50d62734",
   "metadata": {},
   "outputs": [],
   "source": [
    "from sklearn.model_selection import train_test_split"
   ]
  },
  {
   "cell_type": "code",
   "execution_count": 34,
   "id": "5a8faacb-7874-419a-95ad-016fb671ae56",
   "metadata": {},
   "outputs": [],
   "source": [
    "X_train, X_test, y_train, y_test = train_test_split(padded, data[\"target\"], test_size=0.3, stratify=data[\"target\"])"
   ]
  },
  {
   "cell_type": "code",
   "execution_count": 35,
   "id": "2501e913-ab6f-4a76-8610-7d3a22c60888",
   "metadata": {},
   "outputs": [
    {
     "data": {
      "text/plain": [
       "(2169, 930, 2169, 930)"
      ]
     },
     "execution_count": 35,
     "metadata": {},
     "output_type": "execute_result"
    }
   ],
   "source": [
    "len(X_train), len(X_test), len(y_train), len(y_test)"
   ]
  },
  {
   "cell_type": "code",
   "execution_count": 36,
   "id": "c76490f2-13e6-4514-aecc-97e25d6853f4",
   "metadata": {},
   "outputs": [],
   "source": [
    "X_train = np.array(X_train).astype('float32')\n",
    "X_test = np.array(X_test).astype('float32')\n",
    "y_train = np.array(y_train).astype('float32')\n",
    "y_test = np.array(y_test).astype('float32')"
   ]
  },
  {
   "cell_type": "code",
   "execution_count": 37,
   "id": "d5a60033-d591-4fb5-8e6d-156d0e72b5aa",
   "metadata": {},
   "outputs": [
    {
     "data": {
      "text/plain": [
       "(350,)"
      ]
     },
     "execution_count": 37,
     "metadata": {},
     "output_type": "execute_result"
    }
   ],
   "source": [
    "X_train[0].shape"
   ]
  },
  {
   "cell_type": "markdown",
   "id": "37c93326-31cd-4087-8707-94043ca5588d",
   "metadata": {},
   "source": [
    "## Encode Data"
   ]
  },
  {
   "cell_type": "code",
   "execution_count": 40,
   "id": "61482d08-c66e-4f30-82ad-6802a3cd71d8",
   "metadata": {},
   "outputs": [],
   "source": [
    "le = LabelEncoder()\n",
    "y_train = le.fit_transform(y_train)\n",
    "y_test = le.transform(y_test)"
   ]
  },
  {
   "cell_type": "code",
   "execution_count": 41,
   "id": "720659ed-8941-4ce2-9792-97010f7f9fa0",
   "metadata": {},
   "outputs": [
    {
     "data": {
      "text/plain": [
       "[0.0, 1.0]"
      ]
     },
     "execution_count": 41,
     "metadata": {},
     "output_type": "execute_result"
    }
   ],
   "source": [
    "encoder = list(le.classes_)\n",
    "encoder"
   ]
  },
  {
   "cell_type": "markdown",
   "id": "1a032d0b-0635-4fbb-9f50-873594896af9",
   "metadata": {},
   "source": [
    "## Load Glove Embedding"
   ]
  },
  {
   "cell_type": "code",
   "execution_count": 42,
   "id": "d718a074-8c63-4274-8099-2410579164e5",
   "metadata": {},
   "outputs": [],
   "source": [
    "# 300 dimension version of GloVe from Stanford\n",
    "\n",
    "embeddings_index = {};\n",
    "with open('./pre_trained_Embedding/glove.6B/glove.6B.300d.txt', encoding=\"utf8\") as f:\n",
    "    for line in f:\n",
    "        values = line.split();\n",
    "        word = values[0];\n",
    "        coefs = np.asarray(values[1:], dtype='float32');\n",
    "        embeddings_index[word] = coefs;\n",
    "\n",
    "embeddings_matrix = np.zeros((vocab_size+1, embedding_dim));\n",
    "for word, i in word_index.items():\n",
    "    embedding_vector = embeddings_index.get(word);\n",
    "    if embedding_vector is not None:\n",
    "        embeddings_matrix[i] = embedding_vector;"
   ]
  },
  {
   "cell_type": "code",
   "execution_count": 43,
   "id": "a083c6b8-184f-44c5-8a06-6dd55a98b734",
   "metadata": {},
   "outputs": [
    {
     "name": "stdout",
     "output_type": "stream",
     "text": [
      "8536\n"
     ]
    }
   ],
   "source": [
    "print(len(embeddings_matrix))"
   ]
  },
  {
   "cell_type": "markdown",
   "id": "1448155b-72c4-4578-a189-18c1fe63811e",
   "metadata": {},
   "source": [
    "## Building the AI Model I - Bi - LSTM"
   ]
  },
  {
   "cell_type": "code",
   "execution_count": 86,
   "id": "56e8ac77-c216-49d2-ba42-eb79deb4653e",
   "metadata": {},
   "outputs": [],
   "source": [
    "def get_model():\n",
    "\n",
    "    model = tf.keras.Sequential()\n",
    "    model.add(Embedding(vocab_size+1, embedding_dim, input_length=max_length, weights=[embeddings_matrix], trainable=False))\n",
    "    model.add(Bidirectional(tf.keras.layers.LSTM(32)))\n",
    "    model.add(Flatten())\n",
    "    model.add(Dense(64, activation='relu'))\n",
    "    model.add(Dropout(0.3))\n",
    "    model.add(Dense(32, activation='relu'))\n",
    "    model.add(Dropout(0.3))\n",
    "    model.add(Dense(16, activation='relu'))\n",
    "    model.add(Dropout(0.2))\n",
    "    model.add(Dense(1, activation='sigmoid'))\n",
    "    model.compile(loss='binary_crossentropy', optimizer='adam', metrics=['accuracy'])\n",
    "    return model"
   ]
  },
  {
   "cell_type": "code",
   "execution_count": 87,
   "id": "ffb9e57a-5f43-41da-a81c-b25f36bfc4ec",
   "metadata": {},
   "outputs": [],
   "source": [
    "model = get_model()"
   ]
  },
  {
   "cell_type": "code",
   "execution_count": 88,
   "id": "e3436374-11b7-444e-b679-5ef936c16cf5",
   "metadata": {},
   "outputs": [
    {
     "name": "stdout",
     "output_type": "stream",
     "text": [
      "Model: \"sequential_2\"\n",
      "_________________________________________________________________\n",
      " Layer (type)                Output Shape              Param #   \n",
      "=================================================================\n",
      " embedding_2 (Embedding)     (None, 350, 300)          2560800   \n",
      "                                                                 \n",
      " bidirectional_2 (Bidirectio  (None, 64)               85248     \n",
      " nal)                                                            \n",
      "                                                                 \n",
      " flatten_2 (Flatten)         (None, 64)                0         \n",
      "                                                                 \n",
      " dense_8 (Dense)             (None, 64)                4160      \n",
      "                                                                 \n",
      " dropout_6 (Dropout)         (None, 64)                0         \n",
      "                                                                 \n",
      " dense_9 (Dense)             (None, 32)                2080      \n",
      "                                                                 \n",
      " dropout_7 (Dropout)         (None, 32)                0         \n",
      "                                                                 \n",
      " dense_10 (Dense)            (None, 16)                528       \n",
      "                                                                 \n",
      " dropout_8 (Dropout)         (None, 16)                0         \n",
      "                                                                 \n",
      " dense_11 (Dense)            (None, 1)                 17        \n",
      "                                                                 \n",
      "=================================================================\n",
      "Total params: 2,652,833\n",
      "Trainable params: 92,033\n",
      "Non-trainable params: 2,560,800\n",
      "_________________________________________________________________\n"
     ]
    }
   ],
   "source": [
    "model.summary()"
   ]
  },
  {
   "cell_type": "markdown",
   "id": "ac559de2-1531-4c7f-b5e3-a8de33730985",
   "metadata": {},
   "source": [
    "## Training the AI model"
   ]
  },
  {
   "cell_type": "code",
   "execution_count": 89,
   "id": "ea19c2ba-8b27-454e-a6fc-911edae834aa",
   "metadata": {},
   "outputs": [],
   "source": [
    "callback = [tf.keras.callbacks.EarlyStopping(monitor='val_loss', patience=5),\n",
    "            tf.keras.callbacks.ModelCheckpoint(\n",
    "              filepath='./models/depression_pred_model.h5',\n",
    "              save_weights_only=False,\n",
    "              monitor='val_loss',\n",
    "              save_best_only=True),\n",
    "            ]"
   ]
  },
  {
   "cell_type": "code",
   "execution_count": 90,
   "id": "59b9bcd5-510a-484f-8239-6118a98c85e2",
   "metadata": {},
   "outputs": [
    {
     "name": "stdout",
     "output_type": "stream",
     "text": [
      "Epoch 1/20\n",
      "68/68 [==============================] - 5s 50ms/step - loss: 0.6441 - accuracy: 0.6846 - val_loss: 0.5778 - val_accuracy: 0.7280\n",
      "Epoch 2/20\n",
      "68/68 [==============================] - 3s 38ms/step - loss: 0.5652 - accuracy: 0.7284 - val_loss: 0.5255 - val_accuracy: 0.7280\n",
      "Epoch 3/20\n",
      "68/68 [==============================] - 3s 39ms/step - loss: 0.5067 - accuracy: 0.7344 - val_loss: 0.4813 - val_accuracy: 0.7559\n",
      "Epoch 4/20\n",
      "68/68 [==============================] - 3s 40ms/step - loss: 0.4731 - accuracy: 0.7529 - val_loss: 0.4655 - val_accuracy: 0.7602\n",
      "Epoch 5/20\n",
      "68/68 [==============================] - 3s 39ms/step - loss: 0.4320 - accuracy: 0.7612 - val_loss: 0.4713 - val_accuracy: 0.7710\n",
      "Epoch 6/20\n",
      "68/68 [==============================] - 3s 40ms/step - loss: 0.4063 - accuracy: 0.7967 - val_loss: 0.4776 - val_accuracy: 0.7849\n",
      "Epoch 7/20\n",
      "68/68 [==============================] - 3s 39ms/step - loss: 0.3667 - accuracy: 0.8248 - val_loss: 0.4575 - val_accuracy: 0.7667\n",
      "Epoch 8/20\n",
      "68/68 [==============================] - 3s 41ms/step - loss: 0.3411 - accuracy: 0.8400 - val_loss: 0.5121 - val_accuracy: 0.7882\n",
      "Epoch 9/20\n",
      "68/68 [==============================] - 3s 41ms/step - loss: 0.3060 - accuracy: 0.8589 - val_loss: 0.5191 - val_accuracy: 0.7151\n",
      "Epoch 10/20\n",
      "68/68 [==============================] - 3s 41ms/step - loss: 0.2917 - accuracy: 0.8668 - val_loss: 0.5462 - val_accuracy: 0.7763\n",
      "Epoch 11/20\n",
      "68/68 [==============================] - 3s 40ms/step - loss: 0.2293 - accuracy: 0.9036 - val_loss: 0.6006 - val_accuracy: 0.7817\n",
      "Epoch 12/20\n",
      "68/68 [==============================] - 3s 40ms/step - loss: 0.1948 - accuracy: 0.9230 - val_loss: 0.8403 - val_accuracy: 0.7806\n"
     ]
    }
   ],
   "source": [
    "history = model.fit(X_train, y_train, batch_size=32, epochs=20, validation_data=(X_test, y_test),callbacks = [callback])"
   ]
  },
  {
   "cell_type": "code",
   "execution_count": 111,
   "id": "877c7605-db9d-4f7d-bf99-135fb51edf22",
   "metadata": {},
   "outputs": [],
   "source": [
    "model = load_model(\"./models/depression_pred_model.h5\")"
   ]
  },
  {
   "cell_type": "code",
   "execution_count": 92,
   "id": "1cf8b962-eb4d-4bef-8ee0-b5adf25f08ca",
   "metadata": {},
   "outputs": [
    {
     "data": {
      "image/png": "[encoded data removed]",
      "text/plain": [
       "<Figure size 1440x432 with 2 Axes>"
      ]
     },
     "metadata": {
      "needs_background": "light"
     },
     "output_type": "display_data"
    }
   ],
   "source": [
    "epochs = [i for i in range(12)]\n",
    "fig , ax = plt.subplots(1,2)\n",
    "train_acc = history.history['accuracy']\n",
    "train_loss = history.history['loss']\n",
    "test_acc = history.history['val_accuracy']\n",
    "test_loss = history.history['val_loss']\n",
    "\n",
    "fig.set_size_inches(20,6)\n",
    "ax[0].plot(epochs , train_loss , label = 'Training Loss')\n",
    "ax[0].plot(epochs , test_loss , label = 'Testing Loss')\n",
    "ax[0].set_title('Training & Testing Loss')\n",
    "ax[0].legend()\n",
    "ax[0].set_xlabel(\"Epochs\")\n",
    "\n",
    "ax[1].plot(epochs , train_acc , label = 'Training Accuracy')\n",
    "ax[1].plot(epochs , test_acc , label = 'Testing Accuracy')\n",
    "ax[1].set_title('Training & Testing Accuracy')\n",
    "ax[1].legend()\n",
    "ax[1].set_xlabel(\"Epochs\")\n",
    "plt.show()"
   ]
  },
  {
   "cell_type": "code",
   "execution_count": 93,
   "id": "4972af09-0dc8-4405-a1b3-ec054fc5ccea",
   "metadata": {},
   "outputs": [
    {
     "name": "stdout",
     "output_type": "stream",
     "text": [
      "30/30 [==============================] - 1s 24ms/step - loss: 0.4575 - accuracy: 0.7667\n"
     ]
    },
    {
     "data": {
      "text/plain": [
       "[0.45747053623199463, 0.7666666507720947]"
      ]
     },
     "execution_count": 93,
     "metadata": {},
     "output_type": "execute_result"
    }
   ],
   "source": [
    "model.evaluate(X_test, y_test)"
   ]
  },
  {
   "cell_type": "code",
   "execution_count": 94,
   "id": "f6eef9e5-7d5b-4cd0-ad51-7659ca465337",
   "metadata": {},
   "outputs": [],
   "source": [
    "pred = model.predict(X_test)"
   ]
  },
  {
   "cell_type": "code",
   "execution_count": 95,
   "id": "a960f333-4700-4166-b811-3b81290896f5",
   "metadata": {},
   "outputs": [],
   "source": [
    "preds = [1 if x> 0.5 else 0 for x in pred]"
   ]
  },
  {
   "cell_type": "code",
   "execution_count": 96,
   "id": "44de60d4-3c52-40a9-8d52-4721360583ff",
   "metadata": {},
   "outputs": [
    {
     "data": {
      "text/plain": [
       "0.7320514242677238"
      ]
     },
     "execution_count": 96,
     "metadata": {},
     "output_type": "execute_result"
    }
   ],
   "source": [
    "precision_score(preds, y_test, average=\"macro\")"
   ]
  },
  {
   "cell_type": "code",
   "execution_count": 97,
   "id": "c84c0843-3c93-4400-87b5-191d4ef7e2e0",
   "metadata": {},
   "outputs": [
    {
     "data": {
      "text/plain": [
       "0.711793418023702"
      ]
     },
     "execution_count": 97,
     "metadata": {},
     "output_type": "execute_result"
    }
   ],
   "source": [
    "recall_score(preds, y_test, average=\"macro\")"
   ]
  },
  {
   "cell_type": "code",
   "execution_count": 98,
   "id": "c9dda646-ba5c-418b-95e4-d8e262b56236",
   "metadata": {},
   "outputs": [
    {
     "data": {
      "text/plain": [
       "0.7196066907587335"
      ]
     },
     "execution_count": 98,
     "metadata": {},
     "output_type": "execute_result"
    }
   ],
   "source": [
    "f1_score(preds, y_test, average=\"macro\")"
   ]
  },
  {
   "cell_type": "code",
   "execution_count": 99,
   "id": "931b3098-c881-4f4f-9f2a-7a5bc25f210c",
   "metadata": {},
   "outputs": [
    {
     "data": {
      "image/png": "[encoded data removed]",
      "text/plain": [
       "<Figure size 864x720 with 2 Axes>"
      ]
     },
     "metadata": {
      "needs_background": "light"
     },
     "output_type": "display_data"
    }
   ],
   "source": [
    "cm = confusion_matrix(preds, y_test)\n",
    "plt.figure(figsize = (12, 10))\n",
    "cm = pd.DataFrame(cm , columns = [\"Non-Depressed\",\"Depressed\"])\n",
    "sns.heatmap(cm, linecolor='white', cmap='Blues', linewidth=1, annot=True, fmt='')\n",
    "plt.title('Confusion Matrix', size=20)\n",
    "plt.xlabel('Predicted Labels', size=14)\n",
    "plt.ylabel('Actual Labels', size=14)\n",
    "plt.show()"
   ]
  },
  {
   "cell_type": "code",
   "execution_count": 100,
   "id": "8c516ca8-d2d9-4051-bd41-ae83908aeddf",
   "metadata": {},
   "outputs": [
    {
     "name": "stdout",
     "output_type": "stream",
     "text": [
      "               precision    recall  f1-score   support\n",
      "\n",
      "Non-Depressed       0.81      0.86      0.83       634\n",
      "    Depressed       0.66      0.56      0.60       296\n",
      "\n",
      "     accuracy                           0.77       930\n",
      "    macro avg       0.73      0.71      0.72       930\n",
      " weighted avg       0.76      0.77      0.76       930\n",
      "\n"
     ]
    }
   ],
   "source": [
    "print(classification_report(preds, y_test, target_names=[\"Non-Depressed\",\"Depressed\"]))"
   ]
  },
  {
   "cell_type": "code",
   "execution_count": 101,
   "id": "c317e638-cd37-43e0-88e4-1dfda91e806a",
   "metadata": {},
   "outputs": [],
   "source": [
    "# Tweets cleaning\n",
    "\n",
    "def remove_hashtags_mentions(sent):\n",
    "    removed_mentions = re.sub(\"@[A-Za-z0-9_]+\", \"\", sent)\n",
    "    removed_hashtags = re.sub(\"#[A-Za-z0-9_]+\",\"\", removed_mentions)\n",
    "    return removed_hashtags"
   ]
  },
  {
   "cell_type": "code",
   "execution_count": 102,
   "id": "0f17194c-6fdf-4e35-a104-c56c6323520a",
   "metadata": {},
   "outputs": [],
   "source": [
    "# lowercase\n",
    "def lower_case(sent):\n",
    "    return sent.lower()"
   ]
  },
  {
   "cell_type": "code",
   "execution_count": 103,
   "id": "11e89b38-bcea-4d67-b56a-1cf251cb5cf0",
   "metadata": {},
   "outputs": [],
   "source": [
    "# Removing Punctuation\n",
    "def remove_punctuation(sent):\n",
    "    return \" \".join([char for char in sent.split() if char not in string.punctuation])"
   ]
  },
  {
   "cell_type": "code",
   "execution_count": 104,
   "id": "3d0ffacc-0342-4109-a642-195e38db0409",
   "metadata": {},
   "outputs": [],
   "source": [
    "def clean_pipeline(sentence):\n",
    "    \n",
    "    sent = remove_hashtags_mentions(sentence)\n",
    "    sent = lower_case(sent)\n",
    "    sent = remove_punctuation(sent)\n",
    "\n",
    "    if sent is float:\n",
    "        return None\n",
    "    \n",
    "    return sent"
   ]
  },
  {
   "cell_type": "code",
   "execution_count": 105,
   "id": "b747cddd-0e39-46a5-9023-670acbead35d",
   "metadata": {},
   "outputs": [],
   "source": [
    "embedding_dim = 300\n",
    "max_length = 350\n",
    "trunc_type='post'\n",
    "padding_type='post'\n",
    "oov_tok = \"<OOV>\""
   ]
  },
  {
   "cell_type": "code",
   "execution_count": 106,
   "id": "dd6dc6e1-747a-47c2-8926-bad483dd22a6",
   "metadata": {},
   "outputs": [],
   "source": [
    "# model = load_model(\"./API/depression_pred_model.h5\")"
   ]
  },
  {
   "cell_type": "code",
   "execution_count": 112,
   "id": "55ebfae9-de85-4f92-8455-5062f3a08e9f",
   "metadata": {},
   "outputs": [],
   "source": [
    "def depression_pipeline(text):\n",
    "    if type(text) is str:\n",
    "        p_text = clean_pipeline(text)\n",
    "        sequences = tokenizer.texts_to_sequences([p_text])\n",
    "    else:\n",
    "        p_text = [clean_pipeline(x) for x in text]\n",
    "        sequences = tokenizer.texts_to_sequences(p_text)\n",
    "        \n",
    "    padded = pad_sequences(sequences, maxlen=max_length, padding=padding_type, truncating=trunc_type)\n",
    "    padded = np.array(padded)\n",
    "    \n",
    "    pred = model.predict(padded)\n",
    "    emotion = [\"Depressed\" if x > 0.5 else \"Not Depressed\"  for x in pred]\n",
    "    percentage = [x[0] * 100 for x in pred]\n",
    "\n",
    "    return list(zip(emotion, percentage))"
   ]
  },
  {
   "cell_type": "code",
   "execution_count": 113,
   "id": "109a877a-9541-4a1c-89c7-53288e3fa016",
   "metadata": {},
   "outputs": [
    {
     "data": {
      "text/plain": [
       "[('Not Depressed', 38.804274797439575), ('Not Depressed', 4.955104365944862)]"
      ]
     },
     "execution_count": 113,
     "metadata": {},
     "output_type": "execute_result"
    }
   ],
   "source": [
    "depression_pipeline([\"I wanna jump off a cliff\", \"Dieee\"])"
   ]
  },
  {
   "cell_type": "code",
   "execution_count": 114,
   "id": "de864728-0d5c-4ea8-a356-9559752f91ad",
   "metadata": {},
   "outputs": [],
   "source": [
    "import json"
   ]
  },
  {
   "cell_type": "code",
   "execution_count": 115,
   "id": "8c36db50-276b-4531-8dd8-4c8e803cd004",
   "metadata": {},
   "outputs": [
    {
     "data": {
      "text/plain": [
       "'[[\"Not Depressed\", 38.804274797439575], [\"Not Depressed\", 4.955104365944862]]'"
      ]
     },
     "execution_count": 115,
     "metadata": {},
     "output_type": "execute_result"
    }
   ],
   "source": [
    "json.dumps(depression_pipeline([\"I wanna jump off a cliff\", \"Dieee\"]))"
   ]
  }
 ],
 "metadata": {
  "kernelspec": {
   "display_name": "tf-gpu",
   "language": "python",
   "name": "tf-gpu"
  },
  "language_info": {
   "codemirror_mode": {
    "name": "ipython",
    "version": 3
   },
   "file_extension": ".py",
   "mimetype": "text/x-python",
   "name": "python",
   "nbconvert_exporter": "python",
   "pygments_lexer": "ipython3",
   "version": "3.8.8"
  }
 },
 "nbformat": 4,
 "nbformat_minor": 5
}
