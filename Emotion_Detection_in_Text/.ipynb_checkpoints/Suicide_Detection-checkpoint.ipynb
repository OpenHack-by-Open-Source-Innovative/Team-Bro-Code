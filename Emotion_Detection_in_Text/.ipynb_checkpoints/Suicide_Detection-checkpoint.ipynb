{
 "cells": [
  {
   "cell_type": "markdown",
   "id": "a47587d3-1e46-4805-86bf-a511dccc1ae4",
   "metadata": {},
   "source": [
    "# Detecting Suicidal Tendencies from text"
   ]
  },
  {
   "cell_type": "markdown",
   "id": "11dbdf8a-eac3-4207-9978-e40c893f8444",
   "metadata": {},
   "source": [
    "## Import Libraries"
   ]
  },
  {
   "cell_type": "code",
   "execution_count": 1,
   "id": "9171caff-bd46-4630-a5fe-7854a594b257",
   "metadata": {},
   "outputs": [],
   "source": [
    "import numpy as np \n",
    "import pandas as pd\n",
    "\n",
    "from sklearn.model_selection import train_test_split\n",
    "import matplotlib.pyplot as plt\n",
    "from sklearn.metrics import confusion_matrix, classification_report, f1_score, precision_score, recall_score\n",
    "\n",
    "import tensorflow as tf\n",
    "from tensorflow.keras.layers import Embedding,Dense,LSTM,Bidirectional,GlobalMaxPooling1D,Input,Dropout\n",
    "from tensorflow.keras.callbacks import EarlyStopping,ReduceLROnPlateau\n",
    "from tensorflow.keras.models import Sequential, load_model\n",
    "from sklearn.preprocessing import LabelEncoder\n",
    "from tensorflow.keras.preprocessing.text import Tokenizer\n",
    "from tensorflow.keras.preprocessing.sequence import pad_sequences\n",
    "\n",
    "import nltk\n",
    "from nltk.corpus import stopwords\n",
    "import string\n",
    "\n",
    "from tqdm import tqdm\n",
    "import seaborn as sns\n",
    "from wordcloud import WordCloud\n",
    "import pickle\n",
    "import warnings\n",
    "warnings.filterwarnings('ignore')"
   ]
  },
  {
   "cell_type": "markdown",
   "id": "bd0d5641-1a23-4aa8-a095-f285151dee32",
   "metadata": {},
   "source": [
    "## Load Data"
   ]
  },
  {
   "cell_type": "code",
   "execution_count": 2,
   "id": "b1b0eb3a-0828-48e4-96dc-29cadd6fe7eb",
   "metadata": {},
   "outputs": [],
   "source": [
    "data = pd.read_csv('./data/Suicide_Messages.csv')\n",
    "data = data.drop(\"Unnamed: 0\", axis=1)"
   ]
  },
  {
   "cell_type": "code",
   "execution_count": 3,
   "id": "d335eb83-042a-4060-8fb0-c4b820fcff73",
   "metadata": {},
   "outputs": [
    {
     "data": {
      "text/html": [
       "<div>\n",
       "<style scoped>\n",
       "    .dataframe tbody tr th:only-of-type {\n",
       "        vertical-align: middle;\n",
       "    }\n",
       "\n",
       "    .dataframe tbody tr th {\n",
       "        vertical-align: top;\n",
       "    }\n",
       "\n",
       "    .dataframe thead th {\n",
       "        text-align: right;\n",
       "    }\n",
       "</style>\n",
       "<table border=\"1\" class=\"dataframe\">\n",
       "  <thead>\n",
       "    <tr style=\"text-align: right;\">\n",
       "      <th></th>\n",
       "      <th>text</th>\n",
       "      <th>class</th>\n",
       "    </tr>\n",
       "  </thead>\n",
       "  <tbody>\n",
       "    <tr>\n",
       "      <th>0</th>\n",
       "      <td>Ex Wife Threatening SuicideRecently I left my ...</td>\n",
       "      <td>suicide</td>\n",
       "    </tr>\n",
       "    <tr>\n",
       "      <th>1</th>\n",
       "      <td>Am I weird I don't get affected by compliments...</td>\n",
       "      <td>non-suicide</td>\n",
       "    </tr>\n",
       "    <tr>\n",
       "      <th>2</th>\n",
       "      <td>Finally 2020 is almost over... So I can never ...</td>\n",
       "      <td>non-suicide</td>\n",
       "    </tr>\n",
       "    <tr>\n",
       "      <th>3</th>\n",
       "      <td>i need helpjust help me im crying so hard</td>\n",
       "      <td>suicide</td>\n",
       "    </tr>\n",
       "    <tr>\n",
       "      <th>4</th>\n",
       "      <td>I’m so lostHello, my name is Adam (16) and I’v...</td>\n",
       "      <td>suicide</td>\n",
       "    </tr>\n",
       "  </tbody>\n",
       "</table>\n",
       "</div>"
      ],
      "text/plain": [
       "                                                text        class\n",
       "0  Ex Wife Threatening SuicideRecently I left my ...      suicide\n",
       "1  Am I weird I don't get affected by compliments...  non-suicide\n",
       "2  Finally 2020 is almost over... So I can never ...  non-suicide\n",
       "3          i need helpjust help me im crying so hard      suicide\n",
       "4  I’m so lostHello, my name is Adam (16) and I’v...      suicide"
      ]
     },
     "execution_count": 3,
     "metadata": {},
     "output_type": "execute_result"
    }
   ],
   "source": [
    "data.head()"
   ]
  },
  {
   "cell_type": "markdown",
   "id": "c9f02afb-dd9b-4ccc-a099-5d7ed2c75447",
   "metadata": {},
   "source": [
    "## EDA"
   ]
  },
  {
   "cell_type": "code",
   "execution_count": 4,
   "id": "fee337a3-7259-4937-a90a-5825cbce60c2",
   "metadata": {},
   "outputs": [
    {
     "name": "stdout",
     "output_type": "stream",
     "text": [
      "<class 'pandas.core.frame.DataFrame'>\n",
      "RangeIndex: 232074 entries, 0 to 232073\n",
      "Data columns (total 2 columns):\n",
      " #   Column  Non-Null Count   Dtype \n",
      "---  ------  --------------   ----- \n",
      " 0   text    232074 non-null  object\n",
      " 1   class   232074 non-null  object\n",
      "dtypes: object(2)\n",
      "memory usage: 3.5+ MB\n"
     ]
    }
   ],
   "source": [
    "data.info()"
   ]
  },
  {
   "cell_type": "code",
   "execution_count": 5,
   "id": "65f61e41-5252-4b69-ae17-301238fe14fb",
   "metadata": {},
   "outputs": [
    {
     "data": {
      "text/html": [
       "<div>\n",
       "<style scoped>\n",
       "    .dataframe tbody tr th:only-of-type {\n",
       "        vertical-align: middle;\n",
       "    }\n",
       "\n",
       "    .dataframe tbody tr th {\n",
       "        vertical-align: top;\n",
       "    }\n",
       "\n",
       "    .dataframe thead th {\n",
       "        text-align: right;\n",
       "    }\n",
       "</style>\n",
       "<table border=\"1\" class=\"dataframe\">\n",
       "  <thead>\n",
       "    <tr style=\"text-align: right;\">\n",
       "      <th></th>\n",
       "      <th>text</th>\n",
       "      <th>class</th>\n",
       "    </tr>\n",
       "  </thead>\n",
       "  <tbody>\n",
       "    <tr>\n",
       "      <th>count</th>\n",
       "      <td>232074</td>\n",
       "      <td>232074</td>\n",
       "    </tr>\n",
       "    <tr>\n",
       "      <th>unique</th>\n",
       "      <td>232074</td>\n",
       "      <td>2</td>\n",
       "    </tr>\n",
       "    <tr>\n",
       "      <th>top</th>\n",
       "      <td>I just want to be happyAll I want is to be lov...</td>\n",
       "      <td>suicide</td>\n",
       "    </tr>\n",
       "    <tr>\n",
       "      <th>freq</th>\n",
       "      <td>1</td>\n",
       "      <td>116037</td>\n",
       "    </tr>\n",
       "  </tbody>\n",
       "</table>\n",
       "</div>"
      ],
      "text/plain": [
       "                                                     text    class\n",
       "count                                              232074   232074\n",
       "unique                                             232074        2\n",
       "top     I just want to be happyAll I want is to be lov...  suicide\n",
       "freq                                                    1   116037"
      ]
     },
     "execution_count": 5,
     "metadata": {},
     "output_type": "execute_result"
    }
   ],
   "source": [
    "data.describe()"
   ]
  },
  {
   "cell_type": "code",
   "execution_count": 6,
   "id": "7e6591d3-a285-43c1-a5e3-34c49b0ae36b",
   "metadata": {},
   "outputs": [
    {
     "data": {
      "text/plain": [
       "text     0\n",
       "class    0\n",
       "dtype: int64"
      ]
     },
     "execution_count": 6,
     "metadata": {},
     "output_type": "execute_result"
    }
   ],
   "source": [
    "data.isnull().sum()"
   ]
  },
  {
   "cell_type": "markdown",
   "id": "01d6ad35-24ca-46be-92ca-7b465c0c98e8",
   "metadata": {},
   "source": [
    "## Data Cleaning"
   ]
  },
  {
   "cell_type": "code",
   "execution_count": 7,
   "id": "625a622c-049e-4980-a9ab-f9bb1c2c11fb",
   "metadata": {},
   "outputs": [],
   "source": [
    "# Drop Duplicates\n",
    "data = data.drop_duplicates()"
   ]
  },
  {
   "cell_type": "code",
   "execution_count": 8,
   "id": "ce33a0a5-8cc9-4636-a8be-61bd7b610e7d",
   "metadata": {},
   "outputs": [
    {
     "data": {
      "text/html": [
       "<div>\n",
       "<style scoped>\n",
       "    .dataframe tbody tr th:only-of-type {\n",
       "        vertical-align: middle;\n",
       "    }\n",
       "\n",
       "    .dataframe tbody tr th {\n",
       "        vertical-align: top;\n",
       "    }\n",
       "\n",
       "    .dataframe thead th {\n",
       "        text-align: right;\n",
       "    }\n",
       "</style>\n",
       "<table border=\"1\" class=\"dataframe\">\n",
       "  <thead>\n",
       "    <tr style=\"text-align: right;\">\n",
       "      <th></th>\n",
       "      <th>text</th>\n",
       "      <th>class</th>\n",
       "    </tr>\n",
       "  </thead>\n",
       "  <tbody>\n",
       "    <tr>\n",
       "      <th>0</th>\n",
       "      <td>Ex Wife Threatening SuicideRecently I left my ...</td>\n",
       "      <td>suicide</td>\n",
       "    </tr>\n",
       "    <tr>\n",
       "      <th>1</th>\n",
       "      <td>Am I weird I don't get affected by compliments...</td>\n",
       "      <td>non-suicide</td>\n",
       "    </tr>\n",
       "    <tr>\n",
       "      <th>2</th>\n",
       "      <td>Finally 2020 is almost over... So I can never ...</td>\n",
       "      <td>non-suicide</td>\n",
       "    </tr>\n",
       "    <tr>\n",
       "      <th>3</th>\n",
       "      <td>i need helpjust help me im crying so hard</td>\n",
       "      <td>suicide</td>\n",
       "    </tr>\n",
       "    <tr>\n",
       "      <th>4</th>\n",
       "      <td>I’m so lostHello, my name is Adam (16) and I’v...</td>\n",
       "      <td>suicide</td>\n",
       "    </tr>\n",
       "    <tr>\n",
       "      <th>...</th>\n",
       "      <td>...</td>\n",
       "      <td>...</td>\n",
       "    </tr>\n",
       "    <tr>\n",
       "      <th>232069</th>\n",
       "      <td>If you don't like rock then your not going to ...</td>\n",
       "      <td>non-suicide</td>\n",
       "    </tr>\n",
       "    <tr>\n",
       "      <th>232070</th>\n",
       "      <td>You how you can tell i have so many friends an...</td>\n",
       "      <td>non-suicide</td>\n",
       "    </tr>\n",
       "    <tr>\n",
       "      <th>232071</th>\n",
       "      <td>pee probably tastes like salty tea😏💦‼️ can som...</td>\n",
       "      <td>non-suicide</td>\n",
       "    </tr>\n",
       "    <tr>\n",
       "      <th>232072</th>\n",
       "      <td>The usual stuff you find hereI'm not posting t...</td>\n",
       "      <td>suicide</td>\n",
       "    </tr>\n",
       "    <tr>\n",
       "      <th>232073</th>\n",
       "      <td>I still haven't beaten the first boss in Hollo...</td>\n",
       "      <td>non-suicide</td>\n",
       "    </tr>\n",
       "  </tbody>\n",
       "</table>\n",
       "<p>232074 rows × 2 columns</p>\n",
       "</div>"
      ],
      "text/plain": [
       "                                                     text        class\n",
       "0       Ex Wife Threatening SuicideRecently I left my ...      suicide\n",
       "1       Am I weird I don't get affected by compliments...  non-suicide\n",
       "2       Finally 2020 is almost over... So I can never ...  non-suicide\n",
       "3               i need helpjust help me im crying so hard      suicide\n",
       "4       I’m so lostHello, my name is Adam (16) and I’v...      suicide\n",
       "...                                                   ...          ...\n",
       "232069  If you don't like rock then your not going to ...  non-suicide\n",
       "232070  You how you can tell i have so many friends an...  non-suicide\n",
       "232071  pee probably tastes like salty tea😏💦‼️ can som...  non-suicide\n",
       "232072  The usual stuff you find hereI'm not posting t...      suicide\n",
       "232073  I still haven't beaten the first boss in Hollo...  non-suicide\n",
       "\n",
       "[232074 rows x 2 columns]"
      ]
     },
     "execution_count": 8,
     "metadata": {},
     "output_type": "execute_result"
    }
   ],
   "source": [
    "data"
   ]
  },
  {
   "cell_type": "code",
   "execution_count": 9,
   "id": "cb0b54c0-a30f-4d41-a0c1-e164e9378218",
   "metadata": {},
   "outputs": [
    {
     "data": {
      "text/plain": [
       "\"Ex Wife Threatening SuicideRecently I left my wife for good because she has cheated on me twice and lied to me so much that I have decided to refuse to go back to her. As of a few days ago, she began threatening suicide. I have tirelessly spent these paat few days talking her out of it and she keeps hesitating because she wants to believe I'll come back. I know a lot of people will threaten this in order to get their way, but what happens if she really does? What do I do and how am I supposed to handle her death on my hands? I still love my wife but I cannot deal with getting cheated on again and constantly feeling insecure. I'm worried today may be the day she does it and I hope so much it doesn't happen.\""
      ]
     },
     "execution_count": 9,
     "metadata": {},
     "output_type": "execute_result"
    }
   ],
   "source": [
    "data.iloc[0][\"text\"]"
   ]
  },
  {
   "cell_type": "code",
   "execution_count": 10,
   "id": "61256a88-2db2-4feb-8188-5221799684b2",
   "metadata": {},
   "outputs": [],
   "source": [
    "def geenerate_word_cloud():\n",
    "    pass"
   ]
  },
  {
   "cell_type": "code",
   "execution_count": 11,
   "id": "635f973f-bd48-4c6d-8b50-a05c1395f0c4",
   "metadata": {},
   "outputs": [
    {
     "data": {
      "text/plain": [
       "array([\"Ex Wife Threatening SuicideRecently I left my wife for good because she has cheated on me twice and lied to me so much that I have decided to refuse to go back to her. As of a few days ago, she began threatening suicide. I have tirelessly spent these paat few days talking her out of it and she keeps hesitating because she wants to believe I'll come back. I know a lot of people will threaten this in order to get their way, but what happens if she really does? What do I do and how am I supposed to handle her death on my hands? I still love my wife but I cannot deal with getting cheated on again and constantly feeling insecure. I'm worried today may be the day she does it and I hope so much it doesn't happen.\",\n",
       "       \"Am I weird I don't get affected by compliments if it's coming from someone I know irl but I feel really good when internet strangers do it\",\n",
       "       'Finally 2020 is almost over... So I can never hear \"2020 has been a bad year\" ever again. I swear to fucking God it\\'s so annoying',\n",
       "       ...,\n",
       "       'pee probably tastes like salty tea😏💦‼️ can someone who drank pee before confirm this🙄‼️',\n",
       "       'The usual stuff you find hereI\\'m not posting this for sympathy or pity because I know there are far worse situations then mine but I just want to get this stuff out there. \\n\\nBut it just seems in my life that there is no point to. Everything I have done in life I have ruined or quit, I have isolated myself from everyone even my own family. Not even like telling them (my family) would help, they\\'d just consider me psychotic and they are probably right for all I know.  I\\'m 18 and have no sense on what the fuck the universe wants from me, and thinking about it, seems like the universe fucked up when they made me ( I know that\\'s not how I\\'m \"made\" just fuck off) because I don\\'t think it knows what it wants from me, and all I get from people trying to help is how they went through \"rough patches\" and just got to tough it out. I\\'m done \"toughing\" it out, life shouldn\\'t be toughing it out. I look around in my family and since I\\'m the youngest I\\'ve seen all the ridiculous shit that has happened to them all and it\\'s fucked, And I post this in this area because this isn\\'t the first time I have felt like this, I have tried to take my life before, and couldn\\'t do it. WHAT A BITCH I KNOW, I mean seriously what cruel joke is being played on me. I despise my life and just want to know what it would be like if i ended it and I can\\'t even do that. It\\'s so fucked too because whenever I was around \"friends\" I would just put on this macho toughness guy like nothing hurt me and I just kept everything bottled up, and there shouldn\\'t be anything in my life that I should complain about because I had the option to make it better but what good would come of it. I failed out of college because of this and I will probably never get back of track, so that light so-called light at the end of the tunnel is getting smaller by the day. ',\n",
       "       \"I still haven't beaten the first boss in Hollow Knight. I've only fought it a few times and I always die really early in the fight. I'm terrible at this game y'all. :(\"],\n",
       "      dtype=object)"
      ]
     },
     "execution_count": 11,
     "metadata": {},
     "output_type": "execute_result"
    }
   ],
   "source": [
    "data[\"text\"].values"
   ]
  },
  {
   "cell_type": "markdown",
   "id": "dccb7b6a-4222-42a1-bd88-51f2fda8f0ff",
   "metadata": {},
   "source": [
    "## Data Preprocessing Pipeline"
   ]
  },
  {
   "cell_type": "code",
   "execution_count": 73,
   "id": "544265f4-d330-4736-8aa7-d86d07b64fa6",
   "metadata": {},
   "outputs": [],
   "source": [
    "# lowercase\n",
    "def lower_case(sent):\n",
    "    return sent.lower()"
   ]
  },
  {
   "cell_type": "code",
   "execution_count": 74,
   "id": "7fcb285c-a474-4fff-959d-43adc489f87e",
   "metadata": {},
   "outputs": [],
   "source": [
    "# Removing Punctuation\n",
    "def remove_punctuation(sent):\n",
    "    return \"\".join([char for char in sent if char not in string.punctuation])"
   ]
  },
  {
   "cell_type": "code",
   "execution_count": 75,
   "id": "91937a70-d9ed-40fe-bc77-2c1216b1cb1d",
   "metadata": {},
   "outputs": [
    {
     "data": {
      "text/plain": [
       "'!\"#$%&\\'()*+,-./:;<=>?@[\\\\]^_`{|}~'"
      ]
     },
     "execution_count": 75,
     "metadata": {},
     "output_type": "execute_result"
    }
   ],
   "source": [
    "string.punctuation"
   ]
  },
  {
   "cell_type": "code",
   "execution_count": 76,
   "id": "7e91f147-a8e8-40ab-919a-b887f60d67fe",
   "metadata": {},
   "outputs": [],
   "source": [
    "# Tokenize\n",
    "def tokenize_sent(sent):\n",
    "    return nltk.word_tokenize(sent)"
   ]
  },
  {
   "cell_type": "code",
   "execution_count": 77,
   "id": "e710e555-b9fe-4e54-80b6-a3dcd3bdc4f9",
   "metadata": {},
   "outputs": [
    {
     "name": "stdout",
     "output_type": "stream",
     "text": [
      "['i', 'me', 'my', 'myself', 'we', 'our', 'ours', 'ourselves', 'you', \"you're\", \"you've\", \"you'll\", \"you'd\", 'your', 'yours', 'yourself', 'yourselves', 'he', 'him', 'his', 'himself', 'she', \"she's\", 'her', 'hers', 'herself', 'it', \"it's\", 'its', 'itself', 'they', 'them', 'their', 'theirs', 'themselves', 'what', 'which', 'who', 'whom', 'this', 'that', \"that'll\", 'these', 'those', 'am', 'is', 'are', 'was', 'were', 'be', 'been', 'being', 'have', 'has', 'had', 'having', 'do', 'does', 'did', 'doing', 'a', 'an', 'the', 'and', 'but', 'if', 'or', 'because', 'as', 'until', 'while', 'of', 'at', 'by', 'for', 'with', 'about', 'against', 'between', 'into', 'through', 'during', 'before', 'after', 'above', 'below', 'to', 'from', 'up', 'down', 'in', 'out', 'on', 'off', 'over', 'under', 'again', 'further', 'then', 'once', 'here', 'there', 'when', 'where', 'why', 'how', 'all', 'any', 'both', 'each', 'few', 'more', 'most', 'other', 'some', 'such', 'no', 'nor', 'not', 'only', 'own', 'same', 'so', 'than', 'too', 'very', 's', 't', 'can', 'will', 'just', 'don', \"don't\", 'should', \"should've\", 'now', 'd', 'll', 'm', 'o', 're', 've', 'y', 'ain', 'aren', \"aren't\", 'couldn', \"couldn't\", 'didn', \"didn't\", 'doesn', \"doesn't\", 'hadn', \"hadn't\", 'hasn', \"hasn't\", 'haven', \"haven't\", 'isn', \"isn't\", 'ma', 'mightn', \"mightn't\", 'mustn', \"mustn't\", 'needn', \"needn't\", 'shan', \"shan't\", 'shouldn', \"shouldn't\", 'wasn', \"wasn't\", 'weren', \"weren't\", 'won', \"won't\", 'wouldn', \"wouldn't\"]\n"
     ]
    }
   ],
   "source": [
    "# Stopword Filtering\n",
    "stop_words = stopwords.words('english')\n",
    "print(stop_words)"
   ]
  },
  {
   "cell_type": "code",
   "execution_count": 78,
   "id": "992843ce-31b8-43d5-9586-154608b1bda4",
   "metadata": {},
   "outputs": [],
   "source": [
    "def filter_stopwords(tokens):\n",
    "    return [word for word in tokens if word not in stop_words]"
   ]
  },
  {
   "cell_type": "code",
   "execution_count": 79,
   "id": "673d7087-426c-4c83-9a8d-824e7301920c",
   "metadata": {},
   "outputs": [],
   "source": [
    "# Lemmatization\n",
    "wordnet_lemmatizer = nltk.WordNetLemmatizer()"
   ]
  },
  {
   "cell_type": "code",
   "execution_count": 80,
   "id": "63392b0a-cdf5-4ecb-93c9-b11c01987082",
   "metadata": {},
   "outputs": [],
   "source": [
    "def lemmatizer(tokens):\n",
    "    return [wordnet_lemmatizer.lemmatize(word) for word in tokens]"
   ]
  },
  {
   "cell_type": "code",
   "execution_count": 81,
   "id": "ea6776b3-730b-434b-b1cc-a7cad2e3d352",
   "metadata": {},
   "outputs": [],
   "source": [
    "def preprocess_pipeline(sentence):\n",
    "    sent = lower_case(sentence)\n",
    "    sent = remove_punctuation(sent)\n",
    "    \n",
    "    sent_tokens = tokenize_sent(sent)\n",
    "    sent_tokens = filter_stopwords(sent_tokens)\n",
    "    \n",
    "    preprocessed_tokens = lemmatizer(sent_tokens)\n",
    "    \n",
    "    return preprocessed_tokens"
   ]
  },
  {
   "cell_type": "markdown",
   "id": "debfe02a-5a50-4b13-99a1-5d035e863955",
   "metadata": {},
   "source": [
    "### Preprocess the Data"
   ]
  },
  {
   "cell_type": "code",
   "execution_count": 22,
   "id": "07d5ae11-95dd-448d-a8b3-d1116c69d1ca",
   "metadata": {},
   "outputs": [],
   "source": [
    "data[\"preprocessed text\"] = data[\"text\"].apply(preprocess_pipeline)"
   ]
  },
  {
   "cell_type": "code",
   "execution_count": 23,
   "id": "4ae95841-c5ab-4719-be50-f8d80a3773da",
   "metadata": {},
   "outputs": [
    {
     "data": {
      "text/html": [
       "<div>\n",
       "<style scoped>\n",
       "    .dataframe tbody tr th:only-of-type {\n",
       "        vertical-align: middle;\n",
       "    }\n",
       "\n",
       "    .dataframe tbody tr th {\n",
       "        vertical-align: top;\n",
       "    }\n",
       "\n",
       "    .dataframe thead th {\n",
       "        text-align: right;\n",
       "    }\n",
       "</style>\n",
       "<table border=\"1\" class=\"dataframe\">\n",
       "  <thead>\n",
       "    <tr style=\"text-align: right;\">\n",
       "      <th></th>\n",
       "      <th>text</th>\n",
       "      <th>class</th>\n",
       "      <th>preprocessed text</th>\n",
       "    </tr>\n",
       "  </thead>\n",
       "  <tbody>\n",
       "    <tr>\n",
       "      <th>0</th>\n",
       "      <td>Ex Wife Threatening SuicideRecently I left my ...</td>\n",
       "      <td>suicide</td>\n",
       "      <td>[ex, wife, threatening, suiciderecently, left,...</td>\n",
       "    </tr>\n",
       "    <tr>\n",
       "      <th>1</th>\n",
       "      <td>Am I weird I don't get affected by compliments...</td>\n",
       "      <td>non-suicide</td>\n",
       "      <td>[weird, dont, get, affected, compliment, comin...</td>\n",
       "    </tr>\n",
       "    <tr>\n",
       "      <th>2</th>\n",
       "      <td>Finally 2020 is almost over... So I can never ...</td>\n",
       "      <td>non-suicide</td>\n",
       "      <td>[finally, 2020, almost, never, hear, 2020, bad...</td>\n",
       "    </tr>\n",
       "    <tr>\n",
       "      <th>3</th>\n",
       "      <td>i need helpjust help me im crying so hard</td>\n",
       "      <td>suicide</td>\n",
       "      <td>[need, helpjust, help, im, cry, hard]</td>\n",
       "    </tr>\n",
       "    <tr>\n",
       "      <th>4</th>\n",
       "      <td>I’m so lostHello, my name is Adam (16) and I’v...</td>\n",
       "      <td>suicide</td>\n",
       "      <td>[’, losthello, name, adam, 16, ’, struggling, ...</td>\n",
       "    </tr>\n",
       "  </tbody>\n",
       "</table>\n",
       "</div>"
      ],
      "text/plain": [
       "                                                text        class  \\\n",
       "0  Ex Wife Threatening SuicideRecently I left my ...      suicide   \n",
       "1  Am I weird I don't get affected by compliments...  non-suicide   \n",
       "2  Finally 2020 is almost over... So I can never ...  non-suicide   \n",
       "3          i need helpjust help me im crying so hard      suicide   \n",
       "4  I’m so lostHello, my name is Adam (16) and I’v...      suicide   \n",
       "\n",
       "                                   preprocessed text  \n",
       "0  [ex, wife, threatening, suiciderecently, left,...  \n",
       "1  [weird, dont, get, affected, compliment, comin...  \n",
       "2  [finally, 2020, almost, never, hear, 2020, bad...  \n",
       "3              [need, helpjust, help, im, cry, hard]  \n",
       "4  [’, losthello, name, adam, 16, ’, struggling, ...  "
      ]
     },
     "execution_count": 23,
     "metadata": {},
     "output_type": "execute_result"
    }
   ],
   "source": [
    "data.head()"
   ]
  },
  {
   "cell_type": "code",
   "execution_count": 25,
   "id": "abcceab0-a57d-4070-824d-f7a436395f25",
   "metadata": {},
   "outputs": [],
   "source": [
    "data.to_csv(\"./data/preprocessed_suicide_messages.csv\", index=False)"
   ]
  },
  {
   "cell_type": "code",
   "execution_count": 26,
   "id": "473ccd71-badd-4a0c-aa13-523051efbcfd",
   "metadata": {},
   "outputs": [],
   "source": [
    "data = pd.read_csv(\"./data/preprocessed_suicide_messages.csv\")"
   ]
  },
  {
   "cell_type": "code",
   "execution_count": 27,
   "id": "57ce3fd8-b1e2-4fee-9718-a2facaa6a87e",
   "metadata": {},
   "outputs": [
    {
     "data": {
      "text/html": [
       "<div>\n",
       "<style scoped>\n",
       "    .dataframe tbody tr th:only-of-type {\n",
       "        vertical-align: middle;\n",
       "    }\n",
       "\n",
       "    .dataframe tbody tr th {\n",
       "        vertical-align: top;\n",
       "    }\n",
       "\n",
       "    .dataframe thead th {\n",
       "        text-align: right;\n",
       "    }\n",
       "</style>\n",
       "<table border=\"1\" class=\"dataframe\">\n",
       "  <thead>\n",
       "    <tr style=\"text-align: right;\">\n",
       "      <th></th>\n",
       "      <th>text</th>\n",
       "      <th>class</th>\n",
       "      <th>preprocessed text</th>\n",
       "    </tr>\n",
       "  </thead>\n",
       "  <tbody>\n",
       "    <tr>\n",
       "      <th>0</th>\n",
       "      <td>Ex Wife Threatening SuicideRecently I left my ...</td>\n",
       "      <td>suicide</td>\n",
       "      <td>['ex', 'wife', 'threatening', 'suiciderecently...</td>\n",
       "    </tr>\n",
       "    <tr>\n",
       "      <th>1</th>\n",
       "      <td>Am I weird I don't get affected by compliments...</td>\n",
       "      <td>non-suicide</td>\n",
       "      <td>['weird', 'dont', 'get', 'affected', 'complime...</td>\n",
       "    </tr>\n",
       "    <tr>\n",
       "      <th>2</th>\n",
       "      <td>Finally 2020 is almost over... So I can never ...</td>\n",
       "      <td>non-suicide</td>\n",
       "      <td>['finally', '2020', 'almost', 'never', 'hear',...</td>\n",
       "    </tr>\n",
       "    <tr>\n",
       "      <th>3</th>\n",
       "      <td>i need helpjust help me im crying so hard</td>\n",
       "      <td>suicide</td>\n",
       "      <td>['need', 'helpjust', 'help', 'im', 'cry', 'hard']</td>\n",
       "    </tr>\n",
       "    <tr>\n",
       "      <th>4</th>\n",
       "      <td>I’m so lostHello, my name is Adam (16) and I’v...</td>\n",
       "      <td>suicide</td>\n",
       "      <td>['’', 'losthello', 'name', 'adam', '16', '’', ...</td>\n",
       "    </tr>\n",
       "    <tr>\n",
       "      <th>...</th>\n",
       "      <td>...</td>\n",
       "      <td>...</td>\n",
       "      <td>...</td>\n",
       "    </tr>\n",
       "    <tr>\n",
       "      <th>232069</th>\n",
       "      <td>If you don't like rock then your not going to ...</td>\n",
       "      <td>non-suicide</td>\n",
       "      <td>['dont', 'like', 'rock', 'going', 'get', 'anyt...</td>\n",
       "    </tr>\n",
       "    <tr>\n",
       "      <th>232070</th>\n",
       "      <td>You how you can tell i have so many friends an...</td>\n",
       "      <td>non-suicide</td>\n",
       "      <td>['tell', 'many', 'friend', 'lonely', 'everythi...</td>\n",
       "    </tr>\n",
       "    <tr>\n",
       "      <th>232071</th>\n",
       "      <td>pee probably tastes like salty tea😏💦‼️ can som...</td>\n",
       "      <td>non-suicide</td>\n",
       "      <td>['pee', 'probably', 'taste', 'like', 'salty', ...</td>\n",
       "    </tr>\n",
       "    <tr>\n",
       "      <th>232072</th>\n",
       "      <td>The usual stuff you find hereI'm not posting t...</td>\n",
       "      <td>suicide</td>\n",
       "      <td>['usual', 'stuff', 'find', 'hereim', 'posting'...</td>\n",
       "    </tr>\n",
       "    <tr>\n",
       "      <th>232073</th>\n",
       "      <td>I still haven't beaten the first boss in Hollo...</td>\n",
       "      <td>non-suicide</td>\n",
       "      <td>['still', 'havent', 'beaten', 'first', 'bos', ...</td>\n",
       "    </tr>\n",
       "  </tbody>\n",
       "</table>\n",
       "<p>232074 rows × 3 columns</p>\n",
       "</div>"
      ],
      "text/plain": [
       "                                                     text        class  \\\n",
       "0       Ex Wife Threatening SuicideRecently I left my ...      suicide   \n",
       "1       Am I weird I don't get affected by compliments...  non-suicide   \n",
       "2       Finally 2020 is almost over... So I can never ...  non-suicide   \n",
       "3               i need helpjust help me im crying so hard      suicide   \n",
       "4       I’m so lostHello, my name is Adam (16) and I’v...      suicide   \n",
       "...                                                   ...          ...   \n",
       "232069  If you don't like rock then your not going to ...  non-suicide   \n",
       "232070  You how you can tell i have so many friends an...  non-suicide   \n",
       "232071  pee probably tastes like salty tea😏💦‼️ can som...  non-suicide   \n",
       "232072  The usual stuff you find hereI'm not posting t...      suicide   \n",
       "232073  I still haven't beaten the first boss in Hollo...  non-suicide   \n",
       "\n",
       "                                        preprocessed text  \n",
       "0       ['ex', 'wife', 'threatening', 'suiciderecently...  \n",
       "1       ['weird', 'dont', 'get', 'affected', 'complime...  \n",
       "2       ['finally', '2020', 'almost', 'never', 'hear',...  \n",
       "3       ['need', 'helpjust', 'help', 'im', 'cry', 'hard']  \n",
       "4       ['’', 'losthello', 'name', 'adam', '16', '’', ...  \n",
       "...                                                   ...  \n",
       "232069  ['dont', 'like', 'rock', 'going', 'get', 'anyt...  \n",
       "232070  ['tell', 'many', 'friend', 'lonely', 'everythi...  \n",
       "232071  ['pee', 'probably', 'taste', 'like', 'salty', ...  \n",
       "232072  ['usual', 'stuff', 'find', 'hereim', 'posting'...  \n",
       "232073  ['still', 'havent', 'beaten', 'first', 'bos', ...  \n",
       "\n",
       "[232074 rows x 3 columns]"
      ]
     },
     "execution_count": 27,
     "metadata": {},
     "output_type": "execute_result"
    }
   ],
   "source": [
    "data"
   ]
  },
  {
   "cell_type": "markdown",
   "id": "b9aebf03-326b-405b-8418-d8d0810f6545",
   "metadata": {},
   "source": [
    "## Train Test Split"
   ]
  },
  {
   "cell_type": "code",
   "execution_count": 28,
   "id": "ec6e83dc-0fc2-4431-bc85-8fed50d62734",
   "metadata": {},
   "outputs": [],
   "source": [
    "from sklearn.model_selection import train_test_split"
   ]
  },
  {
   "cell_type": "code",
   "execution_count": 29,
   "id": "5a8faacb-7874-419a-95ad-016fb671ae56",
   "metadata": {},
   "outputs": [],
   "source": [
    "X_train, X_test, y_train, y_test = train_test_split(data[\"preprocessed text\"], data[\"class\"], test_size=0.3)"
   ]
  },
  {
   "cell_type": "code",
   "execution_count": 30,
   "id": "2501e913-ab6f-4a76-8610-7d3a22c60888",
   "metadata": {},
   "outputs": [
    {
     "data": {
      "text/plain": [
       "(162451, 69623, 162451, 69623)"
      ]
     },
     "execution_count": 30,
     "metadata": {},
     "output_type": "execute_result"
    }
   ],
   "source": [
    "len(X_train), len(X_test), len(y_train), len(y_test)"
   ]
  },
  {
   "cell_type": "markdown",
   "id": "37c93326-31cd-4087-8707-94043ca5588d",
   "metadata": {},
   "source": [
    "## Encode Data"
   ]
  },
  {
   "cell_type": "code",
   "execution_count": 31,
   "id": "61482d08-c66e-4f30-82ad-6802a3cd71d8",
   "metadata": {},
   "outputs": [],
   "source": [
    "le = LabelEncoder()\n",
    "y_train = le.fit_transform(y_train.values)\n",
    "y_test = le.transform(y_test.values)"
   ]
  },
  {
   "cell_type": "code",
   "execution_count": 32,
   "id": "720659ed-8941-4ce2-9792-97010f7f9fa0",
   "metadata": {},
   "outputs": [
    {
     "data": {
      "text/plain": [
       "['non-suicide', 'suicide']"
      ]
     },
     "execution_count": 32,
     "metadata": {},
     "output_type": "execute_result"
    }
   ],
   "source": [
    "encoder = list(le.classes_)\n",
    "encoder"
   ]
  },
  {
   "cell_type": "markdown",
   "id": "998d85f5-0ee6-4267-8e02-9e6a30a89d50",
   "metadata": {},
   "source": [
    "## Tokenize and Pad Data"
   ]
  },
  {
   "cell_type": "code",
   "execution_count": 31,
   "id": "a868cd04-4fd8-4f09-8e72-7c1793c512df",
   "metadata": {},
   "outputs": [
    {
     "data": {
      "text/plain": [
       "186905"
      ]
     },
     "execution_count": 31,
     "metadata": {},
     "output_type": "execute_result"
    }
   ],
   "source": [
    "data[\"text\"].map(len).argmax()"
   ]
  },
  {
   "cell_type": "code",
   "execution_count": 33,
   "id": "08bff85b-3286-4908-8d47-7a4563093cbf",
   "metadata": {},
   "outputs": [
    {
     "data": {
      "text/plain": [
       "7378"
      ]
     },
     "execution_count": 33,
     "metadata": {},
     "output_type": "execute_result"
    }
   ],
   "source": [
    "# sentence with maximum length\n",
    "len(data.iloc[186905].text.split())"
   ]
  },
  {
   "cell_type": "code",
   "execution_count": 37,
   "id": "6f57462d-160b-47be-bf21-ae7f1cf1e19e",
   "metadata": {},
   "outputs": [],
   "source": [
    "# Tokenize\n",
    "embed_size = 150 # how big is each word vector\n",
    "max_feature = 5000 # how many unique words to use\n",
    "max_len = 2000 # max number of words to use"
   ]
  },
  {
   "cell_type": "code",
   "execution_count": 38,
   "id": "ac15647a-6269-4da4-ad42-12c6434aeb9d",
   "metadata": {},
   "outputs": [],
   "source": [
    "from keras.preprocessing.text import Tokenizer"
   ]
  },
  {
   "cell_type": "code",
   "execution_count": 39,
   "id": "bb14252e-294a-4f9c-9bf3-070e89d5e5f2",
   "metadata": {},
   "outputs": [],
   "source": [
    "tokenizer = Tokenizer(num_words = max_feature)\n",
    "tokenizer.fit_on_texts(X_train)"
   ]
  },
  {
   "cell_type": "code",
   "execution_count": 40,
   "id": "9071210f-e2d1-409b-9af2-16967d95eb56",
   "metadata": {},
   "outputs": [],
   "source": [
    "with open(\"./API/suicide_tokenizer.obj\", \"wb\") as f:\n",
    "    pickle.dump(tokenizer, f)"
   ]
  },
  {
   "cell_type": "code",
   "execution_count": 41,
   "id": "b3a2d3b1-0fa7-4dbf-8912-813d4c609921",
   "metadata": {},
   "outputs": [],
   "source": [
    "X_train = np.array(tokenizer.texts_to_sequences(X_train))\n",
    "X_test = np.array(tokenizer.texts_to_sequences(X_test))"
   ]
  },
  {
   "cell_type": "code",
   "execution_count": 42,
   "id": "8ef5f9b0-ccf8-4a23-9335-03db351f00d9",
   "metadata": {},
   "outputs": [],
   "source": [
    "# Padding\n",
    "from keras.preprocessing.sequence import pad_sequences"
   ]
  },
  {
   "cell_type": "code",
   "execution_count": 43,
   "id": "93f74be3-e0f5-4a6b-b33e-e8cce2e2c7f0",
   "metadata": {},
   "outputs": [],
   "source": [
    "X_train = pad_sequences(X_train, maxlen = max_len)\n",
    "X_test = pad_sequences(X_test, maxlen = max_len)"
   ]
  },
  {
   "cell_type": "markdown",
   "id": "1448155b-72c4-4578-a189-18c1fe63811e",
   "metadata": {},
   "source": [
    "## Building the AI Model I - Bi - LSTM"
   ]
  },
  {
   "cell_type": "code",
   "execution_count": 44,
   "id": "56e8ac77-c216-49d2-ba42-eb79deb4653e",
   "metadata": {},
   "outputs": [],
   "source": [
    "embedding_vector_length = 64\n",
    "\n",
    "def get_model(embedding_vector_length):\n",
    "\n",
    "    model = tf.keras.Sequential()\n",
    "    model.add(Embedding(max_feature, embedding_vector_length, input_length = max_len))\n",
    "    model.add(Bidirectional(tf.keras.layers.LSTM(128)))\n",
    "    model.add(Dense(64, activation='relu'))\n",
    "    model.add(Dropout(0.3))\n",
    "    model.add(Dense(16, activation='relu'))\n",
    "    model.add(Dropout(0.3))\n",
    "    model.add(Dense(1, activation='sigmoid'))\n",
    "    model.compile(loss='binary_crossentropy', optimizer='adam', metrics=['accuracy'])\n",
    "    return model"
   ]
  },
  {
   "cell_type": "code",
   "execution_count": 45,
   "id": "ffb9e57a-5f43-41da-a81c-b25f36bfc4ec",
   "metadata": {},
   "outputs": [],
   "source": [
    "model = get_model(embedding_vector_length)"
   ]
  },
  {
   "cell_type": "code",
   "execution_count": 46,
   "id": "e3436374-11b7-444e-b679-5ef936c16cf5",
   "metadata": {},
   "outputs": [
    {
     "name": "stdout",
     "output_type": "stream",
     "text": [
      "Model: \"sequential\"\n",
      "_________________________________________________________________\n",
      " Layer (type)                Output Shape              Param #   \n",
      "=================================================================\n",
      " embedding (Embedding)       (None, 2000, 64)          320000    \n",
      "                                                                 \n",
      " bidirectional (Bidirectiona  (None, 256)              197632    \n",
      " l)                                                              \n",
      "                                                                 \n",
      " dense (Dense)               (None, 64)                16448     \n",
      "                                                                 \n",
      " dropout (Dropout)           (None, 64)                0         \n",
      "                                                                 \n",
      " dense_1 (Dense)             (None, 16)                1040      \n",
      "                                                                 \n",
      " dropout_1 (Dropout)         (None, 16)                0         \n",
      "                                                                 \n",
      " dense_2 (Dense)             (None, 1)                 17        \n",
      "                                                                 \n",
      "=================================================================\n",
      "Total params: 535,137\n",
      "Trainable params: 535,137\n",
      "Non-trainable params: 0\n",
      "_________________________________________________________________\n"
     ]
    }
   ],
   "source": [
    "model.summary()"
   ]
  },
  {
   "cell_type": "markdown",
   "id": "ac559de2-1531-4c7f-b5e3-a8de33730985",
   "metadata": {},
   "source": [
    "## Training the AI model"
   ]
  },
  {
   "cell_type": "code",
   "execution_count": 47,
   "id": "ea19c2ba-8b27-454e-a6fc-911edae834aa",
   "metadata": {},
   "outputs": [],
   "source": [
    "callback = [tf.keras.callbacks.EarlyStopping(monitor='val_loss', patience=2),\n",
    "            tf.keras.callbacks.ModelCheckpoint(\n",
    "              filepath='suicide_pred_model.h5',\n",
    "              save_weights_only=False,\n",
    "              monitor='val_loss',\n",
    "              save_best_only=True),\n",
    "            ]"
   ]
  },
  {
   "cell_type": "code",
   "execution_count": 48,
   "id": "59b9bcd5-510a-484f-8239-6118a98c85e2",
   "metadata": {},
   "outputs": [
    {
     "name": "stdout",
     "output_type": "stream",
     "text": [
      "Epoch 1/20\n",
      "2539/2539 [==============================] - 730s 286ms/step - loss: 0.2367 - accuracy: 0.9161 - val_loss: 0.1828 - val_accuracy: 0.9328\n",
      "Epoch 2/20\n",
      "2539/2539 [==============================] - 857s 338ms/step - loss: 0.1856 - accuracy: 0.9344 - val_loss: 0.1773 - val_accuracy: 0.9344\n",
      "Epoch 3/20\n",
      "2539/2539 [==============================] - 866s 341ms/step - loss: 0.1670 - accuracy: 0.9397 - val_loss: 0.1787 - val_accuracy: 0.9343\n",
      "Epoch 4/20\n",
      "2539/2539 [==============================] - 678s 267ms/step - loss: 0.1529 - accuracy: 0.9444 - val_loss: 0.1745 - val_accuracy: 0.9355\n",
      "Epoch 5/20\n",
      "2539/2539 [==============================] - 833s 328ms/step - loss: 0.1384 - accuracy: 0.9492 - val_loss: 0.1846 - val_accuracy: 0.9344\n",
      "Epoch 6/20\n",
      "2539/2539 [==============================] - 1018s 401ms/step - loss: 0.1248 - accuracy: 0.9543 - val_loss: 0.1849 - val_accuracy: 0.9301\n"
     ]
    }
   ],
   "source": [
    "history = model.fit(X_train, y_train, batch_size=64, epochs=20, validation_data=(X_test, y_test),callbacks = [callback])"
   ]
  },
  {
   "cell_type": "code",
   "execution_count": 49,
   "id": "4972af09-0dc8-4405-a1b3-ec054fc5ccea",
   "metadata": {},
   "outputs": [
    {
     "name": "stdout",
     "output_type": "stream",
     "text": [
      "2176/2176 [==============================] - 264s 122ms/step - loss: 0.1849 - accuracy: 0.9301\n"
     ]
    },
    {
     "data": {
      "text/plain": [
       "[0.18488366901874542, 0.9300805926322937]"
      ]
     },
     "execution_count": 49,
     "metadata": {},
     "output_type": "execute_result"
    }
   ],
   "source": [
    "model.evaluate(X_test, y_test)"
   ]
  },
  {
   "cell_type": "code",
   "execution_count": 51,
   "id": "a721e800-c353-4861-9cc0-3b23b0826a5f",
   "metadata": {},
   "outputs": [
    {
     "data": {
      "image/png": "[encoded data removed]",
      "text/plain": [
       "<Figure size 1440x432 with 2 Axes>"
      ]
     },
     "metadata": {
      "needs_background": "light"
     },
     "output_type": "display_data"
    }
   ],
   "source": [
    "epochs = [i for i in range(6)]\n",
    "fig , ax = plt.subplots(1,2)\n",
    "train_acc = history.history['accuracy']\n",
    "train_loss = history.history['loss']\n",
    "test_acc = history.history['val_accuracy']\n",
    "test_loss = history.history['val_loss']\n",
    "\n",
    "fig.set_size_inches(20,6)\n",
    "ax[0].plot(epochs , train_loss , label = 'Training Loss')\n",
    "ax[0].plot(epochs , test_loss , label = 'Testing Loss')\n",
    "ax[0].set_title('Training & Testing Loss')\n",
    "ax[0].legend()\n",
    "ax[0].set_xlabel(\"Epochs\")\n",
    "\n",
    "ax[1].plot(epochs , train_acc , label = 'Training Accuracy')\n",
    "ax[1].plot(epochs , test_acc , label = 'Testing Accuracy')\n",
    "ax[1].set_title('Training & Testing Accuracy')\n",
    "ax[1].legend()\n",
    "ax[1].set_xlabel(\"Epochs\")\n",
    "plt.show()"
   ]
  },
  {
   "cell_type": "code",
   "execution_count": 52,
   "id": "2a2542a9-16b0-4c3e-a7f0-c6f4e6d122ae",
   "metadata": {},
   "outputs": [],
   "source": [
    "# model = load_model(\"./suicide_pred_model.h5\")\n",
    "model = load_model(\"./suicide_pred_model.h5\")"
   ]
  },
  {
   "cell_type": "code",
   "execution_count": 53,
   "id": "3cbb5c0c-27c6-4825-b0b7-4b08c8560c87",
   "metadata": {},
   "outputs": [
    {
     "name": "stdout",
     "output_type": "stream",
     "text": [
      "2176/2176 [==============================] - 202s 92ms/step - loss: 0.1745 - accuracy: 0.9355s - loss: 0.1 - ETA: 0s - loss: 0.1744 - accuracy: \n"
     ]
    },
    {
     "data": {
      "text/plain": [
       "[0.17445382475852966, 0.9354523420333862]"
      ]
     },
     "execution_count": 53,
     "metadata": {},
     "output_type": "execute_result"
    }
   ],
   "source": [
    "model.evaluate(X_test, y_test)"
   ]
  },
  {
   "cell_type": "code",
   "execution_count": 54,
   "id": "cd770782-15f4-4ebd-ae17-98b774864218",
   "metadata": {},
   "outputs": [],
   "source": [
    "pred = model.predict(X_test)"
   ]
  },
  {
   "cell_type": "code",
   "execution_count": 55,
   "id": "6cbec496-d139-484e-840b-665fbfe06182",
   "metadata": {},
   "outputs": [],
   "source": [
    "preds = [1 if x> 0.5 else 0 for x in pred]"
   ]
  },
  {
   "cell_type": "code",
   "execution_count": 56,
   "id": "1e5acb13-ca77-48f1-8b79-619485091367",
   "metadata": {},
   "outputs": [
    {
     "data": {
      "text/plain": [
       "0.9354522821069048"
      ]
     },
     "execution_count": 56,
     "metadata": {},
     "output_type": "execute_result"
    }
   ],
   "source": [
    "precision_score(preds, y_test, average=\"macro\")"
   ]
  },
  {
   "cell_type": "code",
   "execution_count": 57,
   "id": "19c3ba26-3cfe-4656-81d0-7c3c23ce2c61",
   "metadata": {},
   "outputs": [
    {
     "data": {
      "text/plain": [
       "0.9354531200692158"
      ]
     },
     "execution_count": 57,
     "metadata": {},
     "output_type": "execute_result"
    }
   ],
   "source": [
    "recall_score(preds, y_test, average=\"macro\")"
   ]
  },
  {
   "cell_type": "code",
   "execution_count": 58,
   "id": "80a01f47-494a-4db1-a5c1-2ef31afc5f6c",
   "metadata": {},
   "outputs": [
    {
     "data": {
      "text/plain": [
       "0.935452327474663"
      ]
     },
     "execution_count": 58,
     "metadata": {},
     "output_type": "execute_result"
    }
   ],
   "source": [
    "f1_score(preds, y_test, average=\"macro\")"
   ]
  },
  {
   "cell_type": "code",
   "execution_count": 59,
   "id": "3ffc83c6-ef27-4e18-a8ee-93cefe1df088",
   "metadata": {},
   "outputs": [
    {
     "data": {
      "image/png": "[encoded data removed]",
      "text/plain": [
       "<Figure size 864x720 with 2 Axes>"
      ]
     },
     "metadata": {
      "needs_background": "light"
     },
     "output_type": "display_data"
    }
   ],
   "source": [
    "cm = confusion_matrix(preds, y_test)\n",
    "plt.figure(figsize = (12, 10))\n",
    "cm = pd.DataFrame(cm , columns = [\"Non-Suicidal\",\"Suicidal\"])\n",
    "sns.heatmap(cm, linecolor='white', cmap='Blues', linewidth=1, annot=True, fmt='')\n",
    "plt.title('Confusion Matrix', size=20)\n",
    "plt.xlabel('Predicted Labels', size=14)\n",
    "plt.ylabel('Actual Labels', size=14)\n",
    "plt.show()"
   ]
  },
  {
   "cell_type": "code",
   "execution_count": 60,
   "id": "3d47f6ad-f03d-4850-9ae4-dcdbd2ba232b",
   "metadata": {},
   "outputs": [
    {
     "name": "stdout",
     "output_type": "stream",
     "text": [
      "              precision    recall  f1-score   support\n",
      "\n",
      "Non-Suicidal       0.93      0.94      0.94     34763\n",
      "    Suicidal       0.94      0.93      0.94     34860\n",
      "\n",
      "    accuracy                           0.94     69623\n",
      "   macro avg       0.94      0.94      0.94     69623\n",
      "weighted avg       0.94      0.94      0.94     69623\n",
      "\n"
     ]
    }
   ],
   "source": [
    "print(classification_report(preds, y_test, target_names=[\"Non-Suicidal\",\"Suicidal\"]))"
   ]
  },
  {
   "cell_type": "markdown",
   "id": "8a61c479-f633-4603-82db-a01a4079d775",
   "metadata": {},
   "source": [
    "## Inference"
   ]
  },
  {
   "cell_type": "code",
   "execution_count": 61,
   "id": "4985fbe1-0466-4453-9946-ad1b641e3a36",
   "metadata": {},
   "outputs": [],
   "source": [
    "# Tweets cleaning\n",
    "\n",
    "def remove_hashtags_mentions(sent):\n",
    "    removed_mentions = re.sub(\"@[A-Za-z0-9_]+\", \"\", sent)\n",
    "    removed_hashtags = re.sub(\"#[A-Za-z0-9_]+\",\"\", removed_mentions)\n",
    "    return removed_hashtags"
   ]
  },
  {
   "cell_type": "code",
   "execution_count": 62,
   "id": "68a0d603-4203-46f2-abe7-aa1b1c550d4e",
   "metadata": {},
   "outputs": [],
   "source": [
    "# lowercase\n",
    "def lower_case(sent):\n",
    "    return sent.lower()"
   ]
  },
  {
   "cell_type": "code",
   "execution_count": 63,
   "id": "51812098-b0a5-4488-ac70-0b1ad290f090",
   "metadata": {},
   "outputs": [],
   "source": [
    "# Removing Punctuation\n",
    "def remove_punctuation(sent):\n",
    "    return \" \".join([char for char in sent.split() if char not in string.punctuation])"
   ]
  },
  {
   "cell_type": "code",
   "execution_count": 64,
   "id": "9f9d2881-4793-4fbf-8e8f-58ea25dd9f24",
   "metadata": {},
   "outputs": [],
   "source": [
    "# Tokenize\n",
    "def tokenize_sent(sent):\n",
    "    return nltk.word_tokenize(sent)"
   ]
  },
  {
   "cell_type": "code",
   "execution_count": 65,
   "id": "7aed8f10-613a-481b-9022-7c58dfd644bb",
   "metadata": {},
   "outputs": [],
   "source": [
    "def filter_stopwords(tokens):\n",
    "    return [word for word in tokens if word not in stop_words]"
   ]
  },
  {
   "cell_type": "code",
   "execution_count": 66,
   "id": "2a6c3924-aa72-40b5-80e7-1dc81243f2af",
   "metadata": {},
   "outputs": [],
   "source": [
    "# Lemmatization\n",
    "wordnet_lemmatizer = nltk.WordNetLemmatizer()"
   ]
  },
  {
   "cell_type": "code",
   "execution_count": 67,
   "id": "92dd92d8-31c1-42d0-b5f0-238a0b0ca5e0",
   "metadata": {},
   "outputs": [],
   "source": [
    "def lemmatizer(tokens):\n",
    "    return [wordnet_lemmatizer.lemmatize(word) for word in tokens]"
   ]
  },
  {
   "cell_type": "code",
   "execution_count": 68,
   "id": "50780af4-1cdd-4e24-afbe-5e76d5505cf0",
   "metadata": {},
   "outputs": [],
   "source": [
    "def clean_pipeline(sentence):\n",
    "    sent = remove_hashtags_mentions(sentence)\n",
    "    sent = lower_case(sent)\n",
    "    sent = remove_punctuation(sent)\n",
    "    \n",
    "    sent_tokens = tokenize_sent(sent)\n",
    "    sent_tokens = filter_stopwords(sent_tokens)\n",
    "    \n",
    "    preprocessed_tokens = lemmatizer(sent_tokens)\n",
    "    \n",
    "    return preprocessed_tokens"
   ]
  },
  {
   "cell_type": "code",
   "execution_count": 69,
   "id": "59439ee5-abef-4039-96e4-e89227f1cae6",
   "metadata": {},
   "outputs": [],
   "source": [
    "embed_size = 150 # how big is each word vector\n",
    "max_feature = 5000 # how many unique words to use\n",
    "max_len = 2000 # max number of words to use"
   ]
  },
  {
   "cell_type": "code",
   "execution_count": 56,
   "id": "11c0e4b9-08c0-4d5d-acb9-99ffdcf23e53",
   "metadata": {},
   "outputs": [],
   "source": [
    "model = load_model(\"./API/suicide_pred_model.h5\")"
   ]
  },
  {
   "cell_type": "code",
   "execution_count": 70,
   "id": "29fbb3d9-1c81-46c3-9e52-2047dbf10161",
   "metadata": {},
   "outputs": [],
   "source": [
    "import re"
   ]
  },
  {
   "cell_type": "code",
   "execution_count": 71,
   "id": "64fd71f5-40e3-4a77-9f93-0058ae3ea1f7",
   "metadata": {},
   "outputs": [],
   "source": [
    "def suicide_pipeline(text):\n",
    "    if type(text) is str:\n",
    "        p_text = clean_pipeline(text)\n",
    "        sequences = tokenizer.texts_to_sequences([p_text])\n",
    "    else:\n",
    "        p_text = [clean_pipeline(x) for x in text]\n",
    "        sequences = tokenizer.texts_to_sequences(p_text)\n",
    "        \n",
    "    padded = pad_sequences(sequences, maxlen=max_len)\n",
    "    padded = np.array(padded)\n",
    "    \n",
    "    pred = model.predict(padded)\n",
    "    emotion = [\"Suicidal\" if x > 0.5 else \"Not Suicidal\"  for x in pred]\n",
    "    percentage = [x[0] * 100 for x in pred]\n",
    "\n",
    "    return list(zip(emotion, percentage))"
   ]
  },
  {
   "cell_type": "code",
   "execution_count": 82,
   "id": "d4e68756-bfa8-41ad-be58-b50dfcc36a41",
   "metadata": {},
   "outputs": [
    {
     "data": {
      "text/plain": [
       "[('Not Suicidal', 23.295828700065613), ('Not Suicidal', 23.295828700065613)]"
      ]
     },
     "execution_count": 82,
     "metadata": {},
     "output_type": "execute_result"
    }
   ],
   "source": [
    "suicide_pipeline([\"lol\", \"Dieee\"])"
   ]
  },
  {
   "cell_type": "code",
   "execution_count": null,
   "id": "5cbdd327-914d-4359-b4f0-440ad74ed6d6",
   "metadata": {},
   "outputs": [],
   "source": [
    "import json"
   ]
  },
  {
   "cell_type": "code",
   "execution_count": null,
   "id": "bd22dcc5-1d1e-4d27-8cb6-15196d305dde",
   "metadata": {},
   "outputs": [],
   "source": [
    "json.dumps(depression_pipeline([\"I wanna jump off a cliff\", \"Dieee\"]))"
   ]
  },
  {
   "cell_type": "code",
   "execution_count": null,
   "id": "85dffb5e-8828-4f57-a044-fda56d79848d",
   "metadata": {},
   "outputs": [],
   "source": []
  }
 ],
 "metadata": {
  "kernelspec": {
   "display_name": "tf-gpu",
   "language": "python",
   "name": "tf-gpu"
  },
  "language_info": {
   "codemirror_mode": {
    "name": "ipython",
    "version": 3
   },
   "file_extension": ".py",
   "mimetype": "text/x-python",
   "name": "python",
   "nbconvert_exporter": "python",
   "pygments_lexer": "ipython3",
   "version": "3.8.8"
  }
 },
 "nbformat": 4,
 "nbformat_minor": 5
}
