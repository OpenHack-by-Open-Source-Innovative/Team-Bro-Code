{
 "cells": [
  {
   "cell_type": "code",
   "execution_count": 1,
   "id": "eb0bff7e-a8b7-45d1-b24e-c9abcfd361c2",
   "metadata": {},
   "outputs": [],
   "source": [
    "import eliza"
   ]
  },
  {
   "cell_type": "code",
   "execution_count": 2,
   "id": "1c851004-a228-4109-b64f-35022fd814a8",
   "metadata": {},
   "outputs": [],
   "source": [
    "eliza = eliza.Eliza()\n",
    "eliza.load('doctor.txt')"
   ]
  },
  {
   "cell_type": "code",
   "execution_count": 3,
   "id": "7315f8e3-84b7-4072-b561-6c4237ae49bb",
   "metadata": {},
   "outputs": [
    {
     "data": {
      "text/plain": [
       "\"I'm not sure I understand you fully.\""
      ]
     },
     "execution_count": 3,
     "metadata": {},
     "output_type": "execute_result"
    }
   ],
   "source": [
    "eliza.respond(\"hi\")"
   ]
  },
  {
   "cell_type": "code",
   "execution_count": 4,
   "id": "8ec94f16-22ae-4929-acef-b37ba4070899",
   "metadata": {},
   "outputs": [
    {
     "data": {
      "text/plain": [
       "'How do you do. Please state your problem.'"
      ]
     },
     "execution_count": 4,
     "metadata": {},
     "output_type": "execute_result"
    }
   ],
   "source": [
    "eliza.respond(\"hello\")"
   ]
  },
  {
   "cell_type": "code",
   "execution_count": 5,
   "id": "b084280f-60e6-44c8-a58f-e2601ea2818b",
   "metadata": {},
   "outputs": [
    {
     "data": {
      "text/plain": [
       "'I am sorry to hear that you are sad .'"
      ]
     },
     "execution_count": 5,
     "metadata": {},
     "output_type": "execute_result"
    }
   ],
   "source": [
    "eliza.respond(\"I am sad\")"
   ]
  },
  {
   "cell_type": "code",
   "execution_count": null,
   "id": "d51d3483-803d-41c0-9d48-1361d4f18678",
   "metadata": {},
   "outputs": [],
   "source": []
  }
 ],
 "metadata": {
  "kernelspec": {
   "display_name": "Python 3",
   "language": "python",
   "name": "python3"
  },
  "language_info": {
   "codemirror_mode": {
    "name": "ipython",
    "version": 3
   },
   "file_extension": ".py",
   "mimetype": "text/x-python",
   "name": "python",
   "nbconvert_exporter": "python",
   "pygments_lexer": "ipython3",
   "version": "3.8.8"
  }
 },
 "nbformat": 4,
 "nbformat_minor": 5
}
